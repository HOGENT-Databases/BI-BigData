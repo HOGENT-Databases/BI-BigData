{
 "cells": [
  {
   "cell_type": "markdown",
   "metadata": {
    "slideshow": {
     "slide_type": "-"
    }
   },
   "source": [
    "# Machine Learning in Business Applications \n",
    "_Johan Decorte_   \n",
    "  \n",
    "\n",
    "\n",
    "\n",
    "\n",
    "  \n",
    "In this part of the course BI & Big Data we explore some technics for creating business value using machine learning technics. We build further on the first chapters of the course Databases III, which you can find <a href=\"https://colab.research.google.com/github/HOGENT-Databases/DB3-Workshops/blob/master/index.ipynb\">here</a>. \n",
    "    \n",
    "## Table of Contents\n",
    "1. Supervised learning\n",
    "    1. [Customer Churn Prediction: case Telecom](notebooks/Telecom_Case.ipynb)\n",
    "    1. [Customer Churn Prediction: exercise Bank Customer Churn](notebooks/BankChurn_Exercise.ipynb) \n",
    "      \n",
    "1. Unsupervised Learning\n",
    "    1. Association Rules\n",
    "        1. [Association rules](notebooks/association_rules.ipynb)\n",
    "        1. [Case: online retail](notebooks/market_basket_analysis_retail.ipynb)\n",
    "        1. [Exercise: AdventureWorks](notebooks/association_rules_exercise.ipynb)\n",
    "    1. Clustering\n",
    "        1. [Clustering](notebooks/clustering.ipynb)\n",
    "        1. [Case: customer segmentation](notebooks/clustering_case_income_spent.ipynb)\n",
    "        1. [Exercise: whole customers](notebooks/clustering_exercise_wholesale_customers.ipynb)\n",
    "        1. [t-SNE Visualization](notebooks/tsne_visualization.ipynb)\n",
    "1. Solutions\n",
    "    1. [Customer Churn Prediction: exercise Bank Customer Churn](notebooks/BankChurn_Solution.ipynb) \n",
    "    1. [Association Rules:exercise Order](notebooks/Market-Basket-Analysis-Exercise-Order-Solution.ipynb) \n",
    "    1. [Association Rules:exercise Customer](notebooks/Market-Basket-Analysis-Exercise-Customer-Solution.ipynb) \n"
   ]
  }
 ],
 "metadata": {
  "celltoolbar": "Slideshow",
  "kernelspec": {
   "display_name": "Python 3",
   "language": "python",
   "name": "python3"
  },
  "language_info": {
   "codemirror_mode": {
    "name": "ipython",
    "version": 3
   },
   "file_extension": ".py",
   "mimetype": "text/x-python",
   "name": "python",
   "nbconvert_exporter": "python",
   "pygments_lexer": "ipython3",
   "version": "3.8.3"
  },
  "nbTranslate": {
   "displayLangs": [
    "*"
   ],
   "hotkey": "alt-t",
   "langInMainMenu": true,
   "sourceLang": "en",
   "targetLang": "fr",
   "useGoogleTranslate": true
  },
  "rise": {
   "scroll": true
  }
 },
 "nbformat": 4,
 "nbformat_minor": 2
}