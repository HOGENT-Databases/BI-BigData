{
 "cells": [
  {
   "cell_type": "markdown",
   "metadata": {},
   "source": [
    "### Exercise: tractor sales\n",
    "Explore the data provided in `Tractor-Sales.csv` to investigate stationarity through moving average, moving variance and differencing.  Finally build an ARIMA model and search for the optimal hyperparameters. "
   ]
  },
  {
   "cell_type": "code",
   "execution_count": 2,
   "metadata": {},
   "outputs": [],
   "source": [
    "import pandas as pd\n",
    "import numpy as np\n",
    "# matplotlib is the Python library for drawing diagrams\n",
    "import matplotlib.pylab as plt\n",
    "%matplotlib inline\n",
    "# set the size of the diagrams\n",
    "from matplotlib.pylab import rcParams\n",
    "rcParams['figure.figsize'] = 15,5"
   ]
  },
  {
   "cell_type": "code",
   "execution_count": 3,
   "metadata": {},
   "outputs": [
    {
     "name": "stdout",
     "output_type": "stream",
     "text": [
      "   Month-Year  Number of Tractors Sold\n",
      "0      Jan-03                      141\n",
      "1      Feb-03                      157\n",
      "2      Mar-03                      185\n",
      "3      Apr-03                      199\n",
      "4      May-03                      203\n",
      "5      Jun-03                      189\n",
      "6      Jul-03                      207\n",
      "7      Aug-03                      207\n",
      "8      Sep-03                      171\n",
      "9      Oct-03                      150\n",
      "10     Nov-03                      138\n",
      "11     Dec-03                      165\n",
      "12     Jan-04                      145\n",
      "13     Feb-04                      168\n",
      "14     Mar-04                      197\n",
      "15     Apr-04                      208\n",
      "16     May-04                      210\n",
      "17     Jun-04                      209\n",
      "18     Jul-04                      238\n",
      "19     Aug-04                      238\n",
      "\n",
      " Data Types:\n",
      "Month-Year                 object\n",
      "Number of Tractors Sold     int64\n",
      "dtype: object\n"
     ]
    }
   ],
   "source": [
    "# import and explore the data\n",
    "data = pd.read_csv('data/Tractor-Sales.csv')\n",
    "print(data.head(20))\n",
    "print('\\n Data Types:')\n",
    "print(data.dtypes)"
   ]
  },
  {
   "cell_type": "markdown",
   "metadata": {},
   "source": [
    "The data contains a particular year number+month and sales in that month. This can't be interpreted as a TS object as the data type for the \"date\" is ‘object’. In order to read the data as a time series, we have to pass special arguments to the read_csv command:"
   ]
  },
  {
   "cell_type": "code",
   "execution_count": 4,
   "metadata": {},
   "outputs": [
    {
     "name": "stdout",
     "output_type": "stream",
     "text": [
      "            Number of Tractors Sold\n",
      "Month-Year                         \n",
      "2003-01-01                      141\n",
      "2003-02-01                      157\n",
      "2003-03-01                      185\n",
      "2003-04-01                      199\n",
      "2003-05-01                      203\n",
      "2003-06-01                      189\n",
      "2003-07-01                      207\n",
      "2003-08-01                      207\n",
      "2003-09-01                      171\n",
      "2003-10-01                      150\n",
      "2003-11-01                      138\n",
      "2003-12-01                      165\n"
     ]
    },
    {
     "name": "stderr",
     "output_type": "stream",
     "text": [
      "C:\\Users\\jcor864\\Anaconda3\\lib\\site-packages\\ipykernel_launcher.py:2: FutureWarning: The pandas.datetime class is deprecated and will be removed from pandas in a future version. Import from datetime module instead.\n",
      "  \n"
     ]
    }
   ],
   "source": [
    "# convert the month-string to a date and use that date as an index\n",
    "parser = lambda x: pd.datetime.strptime(x,'%b-%y')\n",
    "ts = pd.read_csv('data/Tractor-Sales.csv', parse_dates=['Month-Year'], index_col='Month-Year',date_parser=parser)\n",
    "print(ts.head(12))"
   ]
  },
  {
   "cell_type": "code",
   "execution_count": 4,
   "metadata": {},
   "outputs": [
    {
     "data": {
      "text/plain": [
       "DatetimeIndex(['2003-01-01', '2003-02-01', '2003-03-01', '2003-04-01',\n",
       "               '2003-05-01', '2003-06-01', '2003-07-01', '2003-08-01',\n",
       "               '2003-09-01', '2003-10-01',\n",
       "               ...\n",
       "               '2014-03-01', '2014-04-01', '2014-05-01', '2014-06-01',\n",
       "               '2014-07-01', '2014-08-01', '2014-09-01', '2014-10-01',\n",
       "               '2014-11-01', '2014-12-01'],\n",
       "              dtype='datetime64[ns]', name='Month-Year', length=144, freq=None)"
      ]
     },
     "execution_count": 4,
     "metadata": {},
     "output_type": "execute_result"
    }
   ],
   "source": [
    "ts.index"
   ]
  },
  {
   "cell_type": "markdown",
   "metadata": {},
   "source": [
    "The index is now of type \"datetime64\", which is necessary to handle it as a time series"
   ]
  },
  {
   "cell_type": "markdown",
   "metadata": {},
   "source": [
    "#### Plot the data"
   ]
  },
  {
   "cell_type": "code",
   "execution_count": null,
   "metadata": {},
   "outputs": [],
   "source": []
  },
  {
   "cell_type": "markdown",
   "metadata": {},
   "source": [
    "#### Moving average and moving variance"
   ]
  },
  {
   "cell_type": "code",
   "execution_count": null,
   "metadata": {},
   "outputs": [],
   "source": []
  },
  {
   "cell_type": "markdown",
   "metadata": {},
   "source": [
    "This looks like a much better series. The rolling values appear to be varying only slightly. \n",
    "Conclusion: subtracting the moving average is a way to make the time series data (more) stationary. "
   ]
  },
  {
   "cell_type": "markdown",
   "metadata": {},
   "source": [
    "#### Differencing"
   ]
  },
  {
   "cell_type": "code",
   "execution_count": null,
   "metadata": {},
   "outputs": [],
   "source": []
  },
  {
   "cell_type": "markdown",
   "metadata": {},
   "source": [
    "#### Rolling Forecast with the ARIMA Model"
   ]
  },
  {
   "cell_type": "code",
   "execution_count": null,
   "metadata": {},
   "outputs": [],
   "source": []
  }
 ],
 "metadata": {
  "kernelspec": {
   "display_name": "Python 3",
   "language": "python",
   "name": "python3"
  },
  "language_info": {
   "codemirror_mode": {
    "name": "ipython",
    "version": 3
   },
   "file_extension": ".py",
   "mimetype": "text/x-python",
   "name": "python",
   "nbconvert_exporter": "python",
   "pygments_lexer": "ipython3",
   "version": "3.7.6"
  }
 },
 "nbformat": 4,
 "nbformat_minor": 2
}
