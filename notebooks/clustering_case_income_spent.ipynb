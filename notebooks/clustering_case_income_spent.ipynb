{
 "cells": [
  {
   "cell_type": "code",
   "execution_count": null,
   "metadata": {
    "slideshow": {
     "slide_type": "slide"
    }
   },
   "outputs": [],
   "source": [
    "#Load the required packages\n",
    "import numpy as np\n",
    "import pandas as pd\n",
    "\n",
    "pd.set_option(\"display.max_rows\", 20)\n",
    "pd.set_option(\"display.max_columns\", 500)\n",
    "pd.set_option(\"display.width\", 1000)\n",
    "\n",
    "#Read the csv file\n",
    "url = 'https://raw.githubusercontent.com/HOGENT-Databases/BI-BigData/master/data/customers.csv'\n",
    "dataset=pd.read_csv(url,sep=',')\n",
    "\n",
    "#Explore the dataset\n",
    "print(dataset.head()) #top 5 columns\n",
    "print(len(dataset))  # of rows\n",
    "\n",
    "#descriptive statistics of the dataset\n",
    "dataset.describe().transpose()"
   ]
  },
  {
   "source": [
    "Since INCOME and SPENT have a different order of magnitude, which might confuse the algoritms, we first apply standard scaling to the input. The Python StandardScaler standardizes a feature by subtracting the mean and then scaling to unit variance. Unit variance means dividing all the values by the standard deviation."
   ],
   "cell_type": "markdown",
   "metadata": {}
  },
  {
   "cell_type": "code",
   "execution_count": null,
   "metadata": {},
   "outputs": [],
   "source": [
    "from sklearn.preprocessing import StandardScaler\n",
    "scaled_dataset = dataset\n",
    "scaler = StandardScaler()\n",
    "income = dataset.drop('SPENT',axis=1)\n",
    "print(income.head())\n",
    "spent = dataset.drop('INCOME',axis=1)\n",
    "\n",
    "print(spent.head())\n",
    "\n",
    "dataset['INCOME_SC'] = scaler.fit_transform(income)\n",
    "dataset['SPENT_SC'] = scaler.fit_transform(spent)\n",
    "\n",
    "\n"
   ]
  },
  {
   "cell_type": "raw",
   "metadata": {
    "slideshow": {
     "slide_type": "notes"
    }
   },
   "source": [
    "TODO: data normaliseren of scaleren"
   ]
  },
  {
   "cell_type": "code",
   "execution_count": null,
   "metadata": {
    "slideshow": {
     "slide_type": "slide"
    }
   },
   "outputs": [],
   "source": [
    "#Using the elbow method to find the optimum number of clusters\n",
    "from sklearn.cluster import KMeans\n",
    "wcss = []\n",
    "for i in range(1,11):\n",
    "    # k-means++ initializes the centroids to be (generally) distant from each other, \n",
    "    # leading to probably better results than random initialization\n",
    "    km=KMeans(n_clusters=i,init='k-means++')\n",
    "    km.fit(dataset[['INCOME_SC','SPENT_SC']])\n",
    "    # inertia = within cluster some of squares (wcss)\n",
    "    wcss.append(np.round(km.inertia_).astype('int64'))\n",
    "\n",
    "wcss = pd.Series(wcss)\n",
    "\n",
    "# Plot the dataset\n",
    "import matplotlib.pyplot as plt\n",
    "%matplotlib inline\n",
    "\n",
    "plt.scatter(range(1,11), wcss)\n",
    "plt.xlabel('clusters')\n",
    "plt.ylabel('wcss')\n",
    "\n",
    "plt.show()"
   ]
  },
  {
   "cell_type": "code",
   "execution_count": null,
   "metadata": {
    "slideshow": {
     "slide_type": "slide"
    }
   },
   "outputs": [],
   "source": [
    "# Based on the elbow plot, we could choose 4,5 or 6 clusters. \n",
    "# Let us try 4, 5 and 6 clusters and visualize the clusters to decide on the final number of clusters.\n",
    "# Fitting kmeans to the dataset with k=4\n",
    "km4=KMeans(n_clusters=4,init='k-means++')\n",
    "y_means = km4.fit_predict(dataset[['INCOME_SC','SPENT_SC']])\n",
    "dataset['Cluster'] = y_means+1\n",
    "print(dataset.head())\n",
    "\n",
    "from matplotlib.pylab import rcParams\n",
    "rcParams['figure.figsize'] = 15,5\n",
    "groups = dataset.groupby('Cluster')\n",
    "print(groups)\n",
    "fig,ax = plt.subplots()\n",
    "\n",
    "for name, group in groups:\n",
    "    ax.plot(group.INCOME, group.SPENT, marker='o', linestyle='', ms=12, label=name)\n",
    "    \n",
    "plt.xlabel('INCOME')\n",
    "plt.ylabel('SPENT')\n",
    "    \n",
    "ax.legend()"
   ]
  },
  {
   "cell_type": "code",
   "execution_count": null,
   "metadata": {
    "slideshow": {
     "slide_type": "subslide"
    }
   },
   "outputs": [],
   "source": [
    "km5=KMeans(n_clusters=5,init='k-means++')\n",
    "y_means = km5.fit_predict(dataset[['INCOME_SC','SPENT_SC']])\n",
    "dataset['Cluster'] = y_means + 1\n",
    "\n",
    "from matplotlib.pylab import rcParams\n",
    "rcParams['figure.figsize'] = 15,5\n",
    "groups = dataset.groupby('Cluster')\n",
    "print(groups)\n",
    "fig,ax = plt.subplots()\n",
    "\n",
    "for name, group in groups:\n",
    "    ax.plot(group.INCOME, group.SPENT, marker='o', linestyle='', ms=12, label=name)\n",
    "    \n",
    "plt.xlabel('INCOME')\n",
    "plt.ylabel('SPENT')\n",
    "\n",
    "ax.legend()"
   ]
  },
  {
   "cell_type": "code",
   "execution_count": null,
   "metadata": {
    "slideshow": {
     "slide_type": "subslide"
    }
   },
   "outputs": [],
   "source": [
    "km6=KMeans(n_clusters=6,init='k-means++')\n",
    "y_means = km6.fit_predict(dataset[['INCOME_SC','SPENT_SC']])\n",
    "dataset['Cluster'] = y_means + 1\n",
    "\n",
    "from matplotlib.pylab import rcParams\n",
    "rcParams['figure.figsize'] = 15,5\n",
    "groups = scaled_dataset.groupby('Cluster')\n",
    "print(groups)\n",
    "fig,ax = plt.subplots()\n",
    "\n",
    "for name, group in groups:\n",
    "    ax.plot(group.INCOME, group.SPENT, marker='o', linestyle='', ms=12, label=name)\n",
    "    \n",
    "plt.xlabel('INCOME')\n",
    "plt.ylabel('SPENT')\n",
    "\n",
    "ax.legend()"
   ]
  },
  {
   "cell_type": "markdown",
   "metadata": {
    "slideshow": {
     "slide_type": "subslide"
    }
   },
   "source": [
    "4 clusters seems to be a good starting point: it makes alle combinatios of high spent, low spent, high income and low income. "
   ]
  },
  {
   "source": [
    "#### The importance of scaling\n",
    "To check the importance of scaling let's create 6 clusters using the original values for income and spent."
   ],
   "cell_type": "markdown",
   "metadata": {}
  },
  {
   "cell_type": "code",
   "execution_count": null,
   "metadata": {},
   "outputs": [],
   "source": [
    "km6=KMeans(n_clusters=6,init='k-means++')\n",
    "y_means = km6.fit_predict(dataset[['INCOME','SPENT']])\n",
    "dataset['Cluster'] = y_means + 1\n",
    "\n",
    "from matplotlib.pylab import rcParams\n",
    "rcParams['figure.figsize'] = 15,5\n",
    "groups = scaled_dataset.groupby('Cluster')\n",
    "print(groups)\n",
    "fig,ax = plt.subplots()\n",
    "\n",
    "for name, group in groups:\n",
    "    ax.plot(group.INCOME, group.SPENT, marker='o', linestyle='', ms=12, label=name)\n",
    "    \n",
    "plt.xlabel('INCOME')\n",
    "plt.ylabel('SPENT')\n",
    "\n",
    "ax.legend()"
   ]
  },
  {
   "source": [
    "We see the algorithm continue splitting along the INCOME axis because these are the larger numbers. Of course this does not make sense."
   ],
   "cell_type": "markdown",
   "metadata": {}
  }
 ],
 "metadata": {
  "celltoolbar": "Slideshow",
  "kernelspec": {
   "display_name": "Python 3",
   "language": "python",
   "name": "python3"
  },
  "language_info": {
   "codemirror_mode": {
    "name": "ipython",
    "version": 3
   },
   "file_extension": ".py",
   "mimetype": "text/x-python",
   "name": "python",
   "nbconvert_exporter": "python",
   "pygments_lexer": "ipython3",
   "version": "3.7.9-final"
  }
 },
 "nbformat": 4,
 "nbformat_minor": 2
}