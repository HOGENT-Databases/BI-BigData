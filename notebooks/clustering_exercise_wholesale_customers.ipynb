{
 "metadata": {
  "language_info": {
   "codemirror_mode": {
    "name": "ipython",
    "version": 3
   },
   "file_extension": ".py",
   "mimetype": "text/x-python",
   "name": "python",
   "nbconvert_exporter": "python",
   "pygments_lexer": "ipython3",
   "version": 3
  },
  "orig_nbformat": 2
 },
 "nbformat": 4,
 "nbformat_minor": 2,
 "cells": [
  {
   "source": [
    "Use the dataset “wholesale_customers_data.csv”. It contains for each customer the amount spent in different product categories.  \n",
    "Keep the data for the categories “Grocery” and “Milk”.  \n",
    "Determine the optimal number of clusters\n"
   ],
   "cell_type": "markdown",
   "metadata": {}
  },
  {
   "cell_type": "code",
   "execution_count": null,
   "metadata": {},
   "outputs": [],
   "source": [
    "import pandas as pd\n",
    "\n",
    "url = 'https://raw.githubusercontent.com/HOGENT-Databases/BI-BigData/master/data/wholesale_customers_data.csv'\n",
    "dataset=pd.read_csv(url,sep=',')\n",
    "dataset"
   ]
  }
 ]
}