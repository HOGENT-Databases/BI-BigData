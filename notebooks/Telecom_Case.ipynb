{
 "cells": [
  {
   "source": [
    "## Customer Churn Prediction\n",
    "### Lifecycle of customer relationship\n",
    "A typical customer relationship goes through a number of phases.  \n",
    "\n",
    "![](images/churn.png)\n",
    " \n",
    "- In the endangerment phase the risk for customer churn increases.\n",
    "- Companies can avoid churn by predicting it’s risk for each individual customer.\n",
    "- Customers that are at risk can get special attention: discounts, extra service, etc. \n",
    "  \n",
    "### Predictive models for customer churn\n",
    "- Customer churn can be predicted using machine learning techniques.\n",
    "- Predicting customer churn is a typical classification problem.\n",
    "- Often Decision Trees or Naïve Bayes are used.\n",
    "\n",
    "### Case: customer churn at a telecom provider\n",
    "- VODAK is a supplier of a mobile services in the Netherlands. \n",
    "- The marketingmanager would like to get more insights in customer loyalty and the factors determining switch behaviour \n",
    "- VODAK has a database of over one million customers.\n",
    "- We have a sample of these database with 7001 customers. \n",
    "- Based on this sample we will provide the marketing manager with the necessary insights and predict which customers might leave the company.\n",
    "\n",
    "### Case telecom: data description\n",
    "- N° of months since customer started\n",
    "- Age\n",
    "- Gender (M/F)\n",
    "- Average monthly income in euros per customer\n",
    "- N° of months since start of current contract\n",
    "- N° of months till end of contract\n",
    "- N° of times customer switched phone\n",
    "- Age of head of household\n",
    "- Education level of head of household\n",
    "- Income of head of household\n",
    "- House type\n",
    "- Working situation\n",
    "- N° of calls last month\n",
    "- Used minutes last month\n",
    "- Sent text messages last month\n",
    "- Average n° of calls last 6 months\n",
    "- Average used minutes last 6 months\n",
    "- Average n° of sent text messages last 6 months\n",
    "- Service contract\n",
    "- Acquisition costs\n",
    "- Switch: has customer cancelled contract? \n",
    "\n",
    "### Steps to build, interpret and use model\n",
    "- Determine and drop features that seem irrelevant (based on common sense)\n",
    "- Handle missing data\n",
    "- Use one-hot-encoding for categorical features\n",
    "- Choose prediction algorithm\n",
    "- Determine the label\n",
    "- Build model\n",
    "- Determine accuracy of model\n",
    "- Determine relative importance of features and interpret results\n",
    "- Write a function to determine  the probability that a (unseen) customer will leave.\n",
    "\n",
    "\n"
   ],
   "cell_type": "markdown",
   "metadata": {}
  },
  {
   "cell_type": "code",
   "execution_count": 2,
   "metadata": {},
   "outputs": [],
   "source": [
    "# import the datafile \n",
    "import pandas as pd\n",
    "url = 'https://raw.githubusercontent.com/HOGENT-Databases/DB3-Workshops/master/data/telecom_case.csv'\n",
    "telecom = pd.read_csv(url,sep=',')"
   ]
  },
  {
   "cell_type": "code",
   "execution_count": 3,
   "metadata": {},
   "outputs": [
    {
     "output_type": "stream",
     "name": "stdout",
     "text": [
      "    no_months   age gender  income  no_months_ctr  no_months_ctr_end  phones  \\\n0          73   NaN    NaN   47.00           30.0               -6.0       4   \n1          33   NaN    NaN   21.01           21.0               -9.0       3   \n2         101   NaN    NaN  132.49           22.0               11.0       3   \n3         132   NaN    NaN   32.09           26.0               -9.0       6   \n4         112  47.0    NaN    3.63           34.0              -10.0       1   \n5         112  48.0      M    0.48           49.0              -25.0       2   \n6          56   NaN    NaN   21.61           32.0               -8.0       1   \n7         109   NaN    NaN   84.07           13.0               10.0       3   \n8          85   NaN    NaN   64.48           39.0               -9.0       5   \n9         108  69.0      M    0.00           28.0              -15.0       2   \n10        115  52.0      M   16.61           32.0               -8.0       2   \n11        114  53.0    NaN  129.07           34.0               -9.0       5   \n12        111  44.0      V    3.88           26.0               -9.0       1   \n13         98  45.0      M   13.27           46.0              -11.0       2   \n14        109  56.0      V   14.02           25.0              -13.0       2   \n15        108  60.0      M   40.50           33.0               -8.0       3   \n16         80  60.0      V   62.01           33.0                1.0       3   \n17        107  41.0      M    1.44           38.0              -10.0       2   \n18        107  58.0    NaN    6.07           41.0              -17.0       1   \n19        107  27.0      M  210.20           38.0               -4.0       5   \n\n    age_head_hh  edu_head_hh  income_head_hh  ...  work_situation  no_calls  \\\n0           NaN          NaN             NaN  ...             NaN         0   \n1           5.0          1.0             5.0  ...             5.0         1   \n2           4.0          3.0             5.0  ...             1.0         0   \n3           4.0          2.0             2.0  ...             1.0         0   \n4           4.0          1.0             3.0  ...             1.0        16   \n5           4.0          3.0             1.0  ...             2.0         0   \n6           3.0          3.0             1.0  ...             1.0         0   \n7           0.0          0.0             0.0  ...             0.0         3   \n8           3.0          2.0             2.0  ...             1.0         2   \n9           4.0          1.0             1.0  ...             2.0         0   \n10          NaN          NaN             NaN  ...             NaN         0   \n11          NaN          NaN             NaN  ...             NaN         2   \n12          NaN          NaN             NaN  ...             NaN         0   \n13          NaN          NaN             NaN  ...             NaN         0   \n14          3.0          3.0             5.0  ...             1.0         0   \n15          NaN          NaN             NaN  ...             NaN         2   \n16          NaN          NaN             NaN  ...             NaN         0   \n17          2.0          2.0             1.0  ...             1.0         0   \n18          NaN          NaN             NaN  ...             NaN         0   \n19          5.0          3.0             5.0  ...             2.0         0   \n\n    no_minutes  no_msgs  no_calls6  no_minutes6  no_msgs6  servcon  acq_costs  \\\n0         0.00        0        253       352.78       211        0      400.0   \n1         0.43        0         67        59.95         6        0      400.0   \n2         0.00        0         78        86.27         4        0      400.0   \n3         0.00        0        180       314.88        16        0      400.0   \n4        14.50        0        425       452.47        10        0      400.0   \n5         0.00        0         10         7.77        11        0      400.0   \n6         0.00        0         38        22.48         4        0      400.0   \n7         0.45        1        167       228.85        32        0      400.0   \n8         2.03        0        152       181.30        63        0      400.0   \n9         0.00        0         31        32.05        11        0      400.0   \n10        0.00        0         26        31.37         8        0      400.0   \n11        1.00        0        182       212.82        44        0      400.0   \n12        0.00        0          8        11.30        24        0      400.0   \n13        0.00        0         25        16.20        21        0      400.0   \n14        0.00        0        110        68.50         3        0      400.0   \n15        1.83        0        115       223.10        20        0      400.0   \n16        0.00        0        104       170.05       132        0      400.0   \n17        0.00        0          3         5.43         7        0      400.0   \n18        0.00        0         11        11.95         3        0      400.0   \n19        0.00        0        208       196.28        37        0      400.0   \n\n    switch  \n0        1  \n1        1  \n2        1  \n3        1  \n4        1  \n5        1  \n6        1  \n7        1  \n8        1  \n9        1  \n10       1  \n11       1  \n12       1  \n13       1  \n14       1  \n15       1  \n16       1  \n17       1  \n18       1  \n19       1  \n\n[20 rows x 21 columns]\n"
     ]
    }
   ],
   "source": [
    "print(telecom.head(20))"
   ]
  },
  {
   "cell_type": "code",
   "execution_count": 4,
   "metadata": {},
   "outputs": [
    {
     "output_type": "execute_result",
     "data": {
      "text/plain": [
       "        no_months   age  gender  income  no_months_ctr  no_months_ctr_end  \\\n",
       "switch                                                                      \n",
       "0            4788  4301    4282    4788           4781               4781   \n",
       "1            2213  2005    1980    2213           2208               2208   \n",
       "\n",
       "        phones  age_head_hh  edu_head_hh  income_head_hh  house_type  \\\n",
       "switch                                                                 \n",
       "0         4788         4253         4253            4253        4253   \n",
       "1         2213         2052         2052            2052        2052   \n",
       "\n",
       "        work_situation  no_calls  no_minutes  no_msgs  no_calls6  no_minutes6  \\\n",
       "switch                                                                          \n",
       "0                 4253      4788        4788     4788       4788         4788   \n",
       "1                 2052      2213        2213     2213       2213         2213   \n",
       "\n",
       "        no_msgs6  servcon  acq_costs  \n",
       "switch                                \n",
       "0           4788     4788       4788  \n",
       "1           2213     2213       2213  "
      ],
      "text/html": "<div>\n<style scoped>\n    .dataframe tbody tr th:only-of-type {\n        vertical-align: middle;\n    }\n\n    .dataframe tbody tr th {\n        vertical-align: top;\n    }\n\n    .dataframe thead th {\n        text-align: right;\n    }\n</style>\n<table border=\"1\" class=\"dataframe\">\n  <thead>\n    <tr style=\"text-align: right;\">\n      <th></th>\n      <th>no_months</th>\n      <th>age</th>\n      <th>gender</th>\n      <th>income</th>\n      <th>no_months_ctr</th>\n      <th>no_months_ctr_end</th>\n      <th>phones</th>\n      <th>age_head_hh</th>\n      <th>edu_head_hh</th>\n      <th>income_head_hh</th>\n      <th>house_type</th>\n      <th>work_situation</th>\n      <th>no_calls</th>\n      <th>no_minutes</th>\n      <th>no_msgs</th>\n      <th>no_calls6</th>\n      <th>no_minutes6</th>\n      <th>no_msgs6</th>\n      <th>servcon</th>\n      <th>acq_costs</th>\n    </tr>\n    <tr>\n      <th>switch</th>\n      <th></th>\n      <th></th>\n      <th></th>\n      <th></th>\n      <th></th>\n      <th></th>\n      <th></th>\n      <th></th>\n      <th></th>\n      <th></th>\n      <th></th>\n      <th></th>\n      <th></th>\n      <th></th>\n      <th></th>\n      <th></th>\n      <th></th>\n      <th></th>\n      <th></th>\n      <th></th>\n    </tr>\n  </thead>\n  <tbody>\n    <tr>\n      <th>0</th>\n      <td>4788</td>\n      <td>4301</td>\n      <td>4282</td>\n      <td>4788</td>\n      <td>4781</td>\n      <td>4781</td>\n      <td>4788</td>\n      <td>4253</td>\n      <td>4253</td>\n      <td>4253</td>\n      <td>4253</td>\n      <td>4253</td>\n      <td>4788</td>\n      <td>4788</td>\n      <td>4788</td>\n      <td>4788</td>\n      <td>4788</td>\n      <td>4788</td>\n      <td>4788</td>\n      <td>4788</td>\n    </tr>\n    <tr>\n      <th>1</th>\n      <td>2213</td>\n      <td>2005</td>\n      <td>1980</td>\n      <td>2213</td>\n      <td>2208</td>\n      <td>2208</td>\n      <td>2213</td>\n      <td>2052</td>\n      <td>2052</td>\n      <td>2052</td>\n      <td>2052</td>\n      <td>2052</td>\n      <td>2213</td>\n      <td>2213</td>\n      <td>2213</td>\n      <td>2213</td>\n      <td>2213</td>\n      <td>2213</td>\n      <td>2213</td>\n      <td>2213</td>\n    </tr>\n  </tbody>\n</table>\n</div>"
     },
     "metadata": {},
     "execution_count": 4
    }
   ],
   "source": [
    "telecom.groupby(telecom.switch).count()"
   ]
  },
  {
   "cell_type": "code",
   "execution_count": 5,
   "metadata": {},
   "outputs": [],
   "source": [
    "# drop features that seem irrelevant\n",
    "telecom = telecom.drop(['servcon','acq_costs'],axis=1)"
   ]
  },
  {
   "cell_type": "code",
   "execution_count": 6,
   "metadata": {},
   "outputs": [
    {
     "output_type": "execute_result",
     "data": {
      "text/plain": [
       "      no_months    age  gender  income  no_months_ctr  no_months_ctr_end  \\\n",
       "0         False   True    True   False          False              False   \n",
       "1         False   True    True   False          False              False   \n",
       "2         False   True    True   False          False              False   \n",
       "3         False   True    True   False          False              False   \n",
       "4         False  False    True   False          False              False   \n",
       "...         ...    ...     ...     ...            ...                ...   \n",
       "6996      False  False   False   False          False              False   \n",
       "6997      False  False   False   False          False              False   \n",
       "6998      False   True    True   False          False              False   \n",
       "6999      False  False   False   False          False              False   \n",
       "7000      False  False   False   False          False              False   \n",
       "\n",
       "      phones  age_head_hh  edu_head_hh  income_head_hh  house_type  \\\n",
       "0      False         True         True            True        True   \n",
       "1      False        False        False           False       False   \n",
       "2      False        False        False           False       False   \n",
       "3      False        False        False           False       False   \n",
       "4      False        False        False           False       False   \n",
       "...      ...          ...          ...             ...         ...   \n",
       "6996   False        False        False           False       False   \n",
       "6997   False        False        False           False       False   \n",
       "6998   False        False        False           False       False   \n",
       "6999   False        False        False           False       False   \n",
       "7000   False         True         True            True        True   \n",
       "\n",
       "      work_situation  no_calls  no_minutes  no_msgs  no_calls6  no_minutes6  \\\n",
       "0               True     False       False    False      False        False   \n",
       "1              False     False       False    False      False        False   \n",
       "2              False     False       False    False      False        False   \n",
       "3              False     False       False    False      False        False   \n",
       "4              False     False       False    False      False        False   \n",
       "...              ...       ...         ...      ...        ...          ...   \n",
       "6996           False     False       False    False      False        False   \n",
       "6997           False     False       False    False      False        False   \n",
       "6998           False     False       False    False      False        False   \n",
       "6999           False     False       False    False      False        False   \n",
       "7000            True     False       False    False      False        False   \n",
       "\n",
       "      no_msgs6  switch  \n",
       "0        False   False  \n",
       "1        False   False  \n",
       "2        False   False  \n",
       "3        False   False  \n",
       "4        False   False  \n",
       "...        ...     ...  \n",
       "6996     False   False  \n",
       "6997     False   False  \n",
       "6998     False   False  \n",
       "6999     False   False  \n",
       "7000     False   False  \n",
       "\n",
       "[7001 rows x 19 columns]"
      ],
      "text/html": "<div>\n<style scoped>\n    .dataframe tbody tr th:only-of-type {\n        vertical-align: middle;\n    }\n\n    .dataframe tbody tr th {\n        vertical-align: top;\n    }\n\n    .dataframe thead th {\n        text-align: right;\n    }\n</style>\n<table border=\"1\" class=\"dataframe\">\n  <thead>\n    <tr style=\"text-align: right;\">\n      <th></th>\n      <th>no_months</th>\n      <th>age</th>\n      <th>gender</th>\n      <th>income</th>\n      <th>no_months_ctr</th>\n      <th>no_months_ctr_end</th>\n      <th>phones</th>\n      <th>age_head_hh</th>\n      <th>edu_head_hh</th>\n      <th>income_head_hh</th>\n      <th>house_type</th>\n      <th>work_situation</th>\n      <th>no_calls</th>\n      <th>no_minutes</th>\n      <th>no_msgs</th>\n      <th>no_calls6</th>\n      <th>no_minutes6</th>\n      <th>no_msgs6</th>\n      <th>switch</th>\n    </tr>\n  </thead>\n  <tbody>\n    <tr>\n      <th>0</th>\n      <td>False</td>\n      <td>True</td>\n      <td>True</td>\n      <td>False</td>\n      <td>False</td>\n      <td>False</td>\n      <td>False</td>\n      <td>True</td>\n      <td>True</td>\n      <td>True</td>\n      <td>True</td>\n      <td>True</td>\n      <td>False</td>\n      <td>False</td>\n      <td>False</td>\n      <td>False</td>\n      <td>False</td>\n      <td>False</td>\n      <td>False</td>\n    </tr>\n    <tr>\n      <th>1</th>\n      <td>False</td>\n      <td>True</td>\n      <td>True</td>\n      <td>False</td>\n      <td>False</td>\n      <td>False</td>\n      <td>False</td>\n      <td>False</td>\n      <td>False</td>\n      <td>False</td>\n      <td>False</td>\n      <td>False</td>\n      <td>False</td>\n      <td>False</td>\n      <td>False</td>\n      <td>False</td>\n      <td>False</td>\n      <td>False</td>\n      <td>False</td>\n    </tr>\n    <tr>\n      <th>2</th>\n      <td>False</td>\n      <td>True</td>\n      <td>True</td>\n      <td>False</td>\n      <td>False</td>\n      <td>False</td>\n      <td>False</td>\n      <td>False</td>\n      <td>False</td>\n      <td>False</td>\n      <td>False</td>\n      <td>False</td>\n      <td>False</td>\n      <td>False</td>\n      <td>False</td>\n      <td>False</td>\n      <td>False</td>\n      <td>False</td>\n      <td>False</td>\n    </tr>\n    <tr>\n      <th>3</th>\n      <td>False</td>\n      <td>True</td>\n      <td>True</td>\n      <td>False</td>\n      <td>False</td>\n      <td>False</td>\n      <td>False</td>\n      <td>False</td>\n      <td>False</td>\n      <td>False</td>\n      <td>False</td>\n      <td>False</td>\n      <td>False</td>\n      <td>False</td>\n      <td>False</td>\n      <td>False</td>\n      <td>False</td>\n      <td>False</td>\n      <td>False</td>\n    </tr>\n    <tr>\n      <th>4</th>\n      <td>False</td>\n      <td>False</td>\n      <td>True</td>\n      <td>False</td>\n      <td>False</td>\n      <td>False</td>\n      <td>False</td>\n      <td>False</td>\n      <td>False</td>\n      <td>False</td>\n      <td>False</td>\n      <td>False</td>\n      <td>False</td>\n      <td>False</td>\n      <td>False</td>\n      <td>False</td>\n      <td>False</td>\n      <td>False</td>\n      <td>False</td>\n    </tr>\n    <tr>\n      <th>...</th>\n      <td>...</td>\n      <td>...</td>\n      <td>...</td>\n      <td>...</td>\n      <td>...</td>\n      <td>...</td>\n      <td>...</td>\n      <td>...</td>\n      <td>...</td>\n      <td>...</td>\n      <td>...</td>\n      <td>...</td>\n      <td>...</td>\n      <td>...</td>\n      <td>...</td>\n      <td>...</td>\n      <td>...</td>\n      <td>...</td>\n      <td>...</td>\n    </tr>\n    <tr>\n      <th>6996</th>\n      <td>False</td>\n      <td>False</td>\n      <td>False</td>\n      <td>False</td>\n      <td>False</td>\n      <td>False</td>\n      <td>False</td>\n      <td>False</td>\n      <td>False</td>\n      <td>False</td>\n      <td>False</td>\n      <td>False</td>\n      <td>False</td>\n      <td>False</td>\n      <td>False</td>\n      <td>False</td>\n      <td>False</td>\n      <td>False</td>\n      <td>False</td>\n    </tr>\n    <tr>\n      <th>6997</th>\n      <td>False</td>\n      <td>False</td>\n      <td>False</td>\n      <td>False</td>\n      <td>False</td>\n      <td>False</td>\n      <td>False</td>\n      <td>False</td>\n      <td>False</td>\n      <td>False</td>\n      <td>False</td>\n      <td>False</td>\n      <td>False</td>\n      <td>False</td>\n      <td>False</td>\n      <td>False</td>\n      <td>False</td>\n      <td>False</td>\n      <td>False</td>\n    </tr>\n    <tr>\n      <th>6998</th>\n      <td>False</td>\n      <td>True</td>\n      <td>True</td>\n      <td>False</td>\n      <td>False</td>\n      <td>False</td>\n      <td>False</td>\n      <td>False</td>\n      <td>False</td>\n      <td>False</td>\n      <td>False</td>\n      <td>False</td>\n      <td>False</td>\n      <td>False</td>\n      <td>False</td>\n      <td>False</td>\n      <td>False</td>\n      <td>False</td>\n      <td>False</td>\n    </tr>\n    <tr>\n      <th>6999</th>\n      <td>False</td>\n      <td>False</td>\n      <td>False</td>\n      <td>False</td>\n      <td>False</td>\n      <td>False</td>\n      <td>False</td>\n      <td>False</td>\n      <td>False</td>\n      <td>False</td>\n      <td>False</td>\n      <td>False</td>\n      <td>False</td>\n      <td>False</td>\n      <td>False</td>\n      <td>False</td>\n      <td>False</td>\n      <td>False</td>\n      <td>False</td>\n    </tr>\n    <tr>\n      <th>7000</th>\n      <td>False</td>\n      <td>False</td>\n      <td>False</td>\n      <td>False</td>\n      <td>False</td>\n      <td>False</td>\n      <td>False</td>\n      <td>True</td>\n      <td>True</td>\n      <td>True</td>\n      <td>True</td>\n      <td>True</td>\n      <td>False</td>\n      <td>False</td>\n      <td>False</td>\n      <td>False</td>\n      <td>False</td>\n      <td>False</td>\n      <td>False</td>\n    </tr>\n  </tbody>\n</table>\n<p>7001 rows × 19 columns</p>\n</div>"
     },
     "metadata": {},
     "execution_count": 6
    }
   ],
   "source": [
    "# Remove features with many missing values\n",
    "# Identify missing values\n",
    "telecom.isna()\n"
   ]
  },
  {
   "cell_type": "code",
   "execution_count": 7,
   "metadata": {},
   "outputs": [
    {
     "output_type": "execute_result",
     "data": {
      "text/plain": [
       "no_months              0\n",
       "age                  695\n",
       "gender               739\n",
       "income                 0\n",
       "no_months_ctr         12\n",
       "no_months_ctr_end     12\n",
       "phones                 0\n",
       "age_head_hh          696\n",
       "edu_head_hh          696\n",
       "income_head_hh       696\n",
       "house_type           696\n",
       "work_situation       696\n",
       "no_calls               0\n",
       "no_minutes             0\n",
       "no_msgs                0\n",
       "no_calls6              0\n",
       "no_minutes6            0\n",
       "no_msgs6               0\n",
       "switch                 0\n",
       "dtype: int64"
      ]
     },
     "metadata": {},
     "execution_count": 7
    }
   ],
   "source": [
    "# count missing values\n",
    "telecom.isna().sum()"
   ]
  },
  {
   "cell_type": "code",
   "execution_count": 8,
   "metadata": {},
   "outputs": [
    {
     "output_type": "execute_result",
     "data": {
      "text/plain": [
       "no_months            0.000000\n",
       "age                  0.099272\n",
       "gender               0.105556\n",
       "income               0.000000\n",
       "no_months_ctr        0.001714\n",
       "no_months_ctr_end    0.001714\n",
       "phones               0.000000\n",
       "age_head_hh          0.099414\n",
       "edu_head_hh          0.099414\n",
       "income_head_hh       0.099414\n",
       "house_type           0.099414\n",
       "work_situation       0.099414\n",
       "no_calls             0.000000\n",
       "no_minutes           0.000000\n",
       "no_msgs              0.000000\n",
       "no_calls6            0.000000\n",
       "no_minutes6          0.000000\n",
       "no_msgs6             0.000000\n",
       "switch               0.000000\n",
       "dtype: float64"
      ]
     },
     "metadata": {},
     "execution_count": 8
    }
   ],
   "source": [
    "# Count missing value as proportion of total number of rows\n",
    "telecom.isna().sum()/len(telecom)"
   ]
  },
  {
   "cell_type": "code",
   "execution_count": 9,
   "metadata": {},
   "outputs": [
    {
     "output_type": "stream",
     "name": "stdout",
     "text": [
      "no_months             True\nage                   True\ngender               False\nincome                True\nno_months_ctr         True\nno_months_ctr_end     True\nphones                True\nage_head_hh           True\nedu_head_hh           True\nincome_head_hh        True\nhouse_type            True\nwork_situation        True\nno_calls              True\nno_minutes            True\nno_msgs               True\nno_calls6             True\nno_minutes6           True\nno_msgs6              True\nswitch                True\ndtype: bool\n"
     ]
    }
   ],
   "source": [
    "# Apply a missing value threshold\n",
    "mask = telecom.isna().sum()/len(telecom) < 0.1\n",
    "print(mask)"
   ]
  },
  {
   "cell_type": "code",
   "execution_count": 10,
   "metadata": {},
   "outputs": [
    {
     "output_type": "execute_result",
     "data": {
      "text/plain": [
       "   no_months   age  income  no_months_ctr  no_months_ctr_end  phones  \\\n",
       "0         73   NaN   47.00           30.0               -6.0       4   \n",
       "1         33   NaN   21.01           21.0               -9.0       3   \n",
       "2        101   NaN  132.49           22.0               11.0       3   \n",
       "3        132   NaN   32.09           26.0               -9.0       6   \n",
       "4        112  47.0    3.63           34.0              -10.0       1   \n",
       "\n",
       "   age_head_hh  edu_head_hh  income_head_hh  house_type  work_situation  \\\n",
       "0          NaN          NaN             NaN         NaN             NaN   \n",
       "1          5.0          1.0             5.0         1.0             5.0   \n",
       "2          4.0          3.0             5.0         1.0             1.0   \n",
       "3          4.0          2.0             2.0         4.0             1.0   \n",
       "4          4.0          1.0             3.0         2.0             1.0   \n",
       "\n",
       "   no_calls  no_minutes  no_msgs  no_calls6  no_minutes6  no_msgs6  switch  \n",
       "0         0        0.00        0        253       352.78       211       1  \n",
       "1         1        0.43        0         67        59.95         6       1  \n",
       "2         0        0.00        0         78        86.27         4       1  \n",
       "3         0        0.00        0        180       314.88        16       1  \n",
       "4        16       14.50        0        425       452.47        10       1  "
      ],
      "text/html": "<div>\n<style scoped>\n    .dataframe tbody tr th:only-of-type {\n        vertical-align: middle;\n    }\n\n    .dataframe tbody tr th {\n        vertical-align: top;\n    }\n\n    .dataframe thead th {\n        text-align: right;\n    }\n</style>\n<table border=\"1\" class=\"dataframe\">\n  <thead>\n    <tr style=\"text-align: right;\">\n      <th></th>\n      <th>no_months</th>\n      <th>age</th>\n      <th>income</th>\n      <th>no_months_ctr</th>\n      <th>no_months_ctr_end</th>\n      <th>phones</th>\n      <th>age_head_hh</th>\n      <th>edu_head_hh</th>\n      <th>income_head_hh</th>\n      <th>house_type</th>\n      <th>work_situation</th>\n      <th>no_calls</th>\n      <th>no_minutes</th>\n      <th>no_msgs</th>\n      <th>no_calls6</th>\n      <th>no_minutes6</th>\n      <th>no_msgs6</th>\n      <th>switch</th>\n    </tr>\n  </thead>\n  <tbody>\n    <tr>\n      <th>0</th>\n      <td>73</td>\n      <td>NaN</td>\n      <td>47.00</td>\n      <td>30.0</td>\n      <td>-6.0</td>\n      <td>4</td>\n      <td>NaN</td>\n      <td>NaN</td>\n      <td>NaN</td>\n      <td>NaN</td>\n      <td>NaN</td>\n      <td>0</td>\n      <td>0.00</td>\n      <td>0</td>\n      <td>253</td>\n      <td>352.78</td>\n      <td>211</td>\n      <td>1</td>\n    </tr>\n    <tr>\n      <th>1</th>\n      <td>33</td>\n      <td>NaN</td>\n      <td>21.01</td>\n      <td>21.0</td>\n      <td>-9.0</td>\n      <td>3</td>\n      <td>5.0</td>\n      <td>1.0</td>\n      <td>5.0</td>\n      <td>1.0</td>\n      <td>5.0</td>\n      <td>1</td>\n      <td>0.43</td>\n      <td>0</td>\n      <td>67</td>\n      <td>59.95</td>\n      <td>6</td>\n      <td>1</td>\n    </tr>\n    <tr>\n      <th>2</th>\n      <td>101</td>\n      <td>NaN</td>\n      <td>132.49</td>\n      <td>22.0</td>\n      <td>11.0</td>\n      <td>3</td>\n      <td>4.0</td>\n      <td>3.0</td>\n      <td>5.0</td>\n      <td>1.0</td>\n      <td>1.0</td>\n      <td>0</td>\n      <td>0.00</td>\n      <td>0</td>\n      <td>78</td>\n      <td>86.27</td>\n      <td>4</td>\n      <td>1</td>\n    </tr>\n    <tr>\n      <th>3</th>\n      <td>132</td>\n      <td>NaN</td>\n      <td>32.09</td>\n      <td>26.0</td>\n      <td>-9.0</td>\n      <td>6</td>\n      <td>4.0</td>\n      <td>2.0</td>\n      <td>2.0</td>\n      <td>4.0</td>\n      <td>1.0</td>\n      <td>0</td>\n      <td>0.00</td>\n      <td>0</td>\n      <td>180</td>\n      <td>314.88</td>\n      <td>16</td>\n      <td>1</td>\n    </tr>\n    <tr>\n      <th>4</th>\n      <td>112</td>\n      <td>47.0</td>\n      <td>3.63</td>\n      <td>34.0</td>\n      <td>-10.0</td>\n      <td>1</td>\n      <td>4.0</td>\n      <td>1.0</td>\n      <td>3.0</td>\n      <td>2.0</td>\n      <td>1.0</td>\n      <td>16</td>\n      <td>14.50</td>\n      <td>0</td>\n      <td>425</td>\n      <td>452.47</td>\n      <td>10</td>\n      <td>1</td>\n    </tr>\n  </tbody>\n</table>\n</div>"
     },
     "metadata": {},
     "execution_count": 10
    }
   ],
   "source": [
    "# Remove columns with a missing value proportion above this threshold\n",
    "telecom = telecom.loc[:,mask]\n",
    "telecom.head()"
   ]
  },
  {
   "cell_type": "code",
   "execution_count": 11,
   "metadata": {},
   "outputs": [],
   "source": [
    "# drop lines with unknown (NaN) values\n",
    "telecom = telecom.dropna()"
   ]
  },
  {
   "cell_type": "code",
   "execution_count": 12,
   "metadata": {},
   "outputs": [
    {
     "output_type": "execute_result",
     "data": {
      "text/plain": [
       "(5692, 18)"
      ]
     },
     "metadata": {},
     "execution_count": 12
    }
   ],
   "source": [
    "telecom.shape"
   ]
  },
  {
   "cell_type": "code",
   "execution_count": 13,
   "metadata": {},
   "outputs": [],
   "source": [
    "# determine feature set and label\n",
    "\n",
    "X = telecom.drop('switch',axis=1)\n",
    "y = telecom['switch']"
   ]
  },
  {
   "cell_type": "code",
   "execution_count": 14,
   "metadata": {},
   "outputs": [
    {
     "output_type": "stream",
     "name": "stdout",
     "text": [
      "Optimal number of trees = 50\nAccuracy on validation set =  0.99\nAccuracy on test set =  0.99\n"
     ]
    }
   ],
   "source": [
    "# build model (see course Databases III)\n",
    "from sklearn.model_selection import train_test_split\n",
    "X_remainder, X_test, y_remainder, y_test = train_test_split(X,y,test_size=0.30)\n",
    "\n",
    "from sklearn.ensemble import RandomForestClassifier\n",
    "\n",
    "from sklearn.metrics import accuracy_score\n",
    "\n",
    "best_accuracy = 0\n",
    "best_trees = 0\n",
    "\n",
    "for trees in range(50,550,50):\n",
    "    X_train, X_validation, y_train, y_validation = train_test_split(X_remainder,y_remainder,test_size=0.30)\n",
    "    model = RandomForestClassifier(n_estimators=trees)\n",
    "    model.fit(X_train, y_train)    \n",
    "    y_validation2 = model.predict(X_validation)\n",
    "    accuracy = accuracy_score(y_validation, y_validation2)\n",
    "    if accuracy > best_accuracy:\n",
    "        best_accuracy = accuracy\n",
    "        best_trees = trees\n",
    "        best_validation = model.predict(X_test)\n",
    "        \n",
    "print('Optimal number of trees = % s' %(best_trees))\n",
    "print('Accuracy on validation set = % 3.2f' % (best_accuracy)) \n",
    "accuracyOnTestSet = accuracy_score(y_test, best_validation)\n",
    "print('Accuracy on test set = % 3.2f' % (accuracyOnTestSet))"
   ]
  },
  {
   "cell_type": "code",
   "execution_count": 15,
   "metadata": {},
   "outputs": [
    {
     "output_type": "stream",
     "name": "stdout",
     "text": [
      "Index(['no_months', 'age', 'income', 'no_months_ctr', 'no_months_ctr_end',\n       'phones', 'age_head_hh', 'edu_head_hh', 'income_head_hh', 'house_type',\n       'work_situation', 'no_calls', 'no_minutes', 'no_msgs', 'no_calls6',\n       'no_minutes6', 'no_msgs6'],\n      dtype='object')\n[0.00584028 0.00630422 0.06370116 0.01688216 0.03475929 0.00256941\n 0.00179856 0.00127057 0.00410253 0.00157651 0.00086732 0.32910003\n 0.33644661 0.16691265 0.01188065 0.01069577 0.0052923 ]\n"
     ]
    }
   ],
   "source": [
    "# determine feature importances\n",
    "print(X_train.columns)\n",
    "print(model.feature_importances_)"
   ]
  },
  {
   "cell_type": "code",
   "execution_count": 16,
   "metadata": {},
   "outputs": [
    {
     "output_type": "execute_result",
     "data": {
      "text/plain": [
       "                   Importance\n",
       "no_minutes           0.336447\n",
       "no_calls             0.329100\n",
       "no_msgs              0.166913\n",
       "income               0.063701\n",
       "no_months_ctr_end    0.034759\n",
       "no_months_ctr        0.016882\n",
       "no_calls6            0.011881\n",
       "no_minutes6          0.010696\n",
       "age                  0.006304\n",
       "no_months            0.005840\n",
       "no_msgs6             0.005292\n",
       "income_head_hh       0.004103\n",
       "phones               0.002569\n",
       "age_head_hh          0.001799\n",
       "house_type           0.001577\n",
       "edu_head_hh          0.001271\n",
       "work_situation       0.000867"
      ],
      "text/html": "<div>\n<style scoped>\n    .dataframe tbody tr th:only-of-type {\n        vertical-align: middle;\n    }\n\n    .dataframe tbody tr th {\n        vertical-align: top;\n    }\n\n    .dataframe thead th {\n        text-align: right;\n    }\n</style>\n<table border=\"1\" class=\"dataframe\">\n  <thead>\n    <tr style=\"text-align: right;\">\n      <th></th>\n      <th>Importance</th>\n    </tr>\n  </thead>\n  <tbody>\n    <tr>\n      <th>no_minutes</th>\n      <td>0.336447</td>\n    </tr>\n    <tr>\n      <th>no_calls</th>\n      <td>0.329100</td>\n    </tr>\n    <tr>\n      <th>no_msgs</th>\n      <td>0.166913</td>\n    </tr>\n    <tr>\n      <th>income</th>\n      <td>0.063701</td>\n    </tr>\n    <tr>\n      <th>no_months_ctr_end</th>\n      <td>0.034759</td>\n    </tr>\n    <tr>\n      <th>no_months_ctr</th>\n      <td>0.016882</td>\n    </tr>\n    <tr>\n      <th>no_calls6</th>\n      <td>0.011881</td>\n    </tr>\n    <tr>\n      <th>no_minutes6</th>\n      <td>0.010696</td>\n    </tr>\n    <tr>\n      <th>age</th>\n      <td>0.006304</td>\n    </tr>\n    <tr>\n      <th>no_months</th>\n      <td>0.005840</td>\n    </tr>\n    <tr>\n      <th>no_msgs6</th>\n      <td>0.005292</td>\n    </tr>\n    <tr>\n      <th>income_head_hh</th>\n      <td>0.004103</td>\n    </tr>\n    <tr>\n      <th>phones</th>\n      <td>0.002569</td>\n    </tr>\n    <tr>\n      <th>age_head_hh</th>\n      <td>0.001799</td>\n    </tr>\n    <tr>\n      <th>house_type</th>\n      <td>0.001577</td>\n    </tr>\n    <tr>\n      <th>edu_head_hh</th>\n      <td>0.001271</td>\n    </tr>\n    <tr>\n      <th>work_situation</th>\n      <td>0.000867</td>\n    </tr>\n  </tbody>\n</table>\n</div>"
     },
     "metadata": {},
     "execution_count": 16
    }
   ],
   "source": [
    "pd.DataFrame(model.feature_importances_,columns=['Importance'],index=X_train.columns).sort_values(by='Importance',ascending=False)"
   ]
  },
  {
   "cell_type": "code",
   "execution_count": 19,
   "metadata": {},
   "outputs": [
    {
     "output_type": "execute_result",
     "data": {
      "text/plain": [
       "        no_months        age      income  no_months_ctr  no_months_ctr_end  \\\n",
       "switch                                                                       \n",
       "0       52.545668  39.345511   38.622035      21.602296           1.553497   \n",
       "1       49.644086  36.088710  201.819565      26.468280          -4.209140   \n",
       "\n",
       "          phones  age_head_hh  edu_head_hh  income_head_hh  house_type  \\\n",
       "switch                                                                   \n",
       "0       2.269833     3.371347     2.093946        3.215553    3.191806   \n",
       "1       2.591935     3.312903     2.072581        2.629032    3.531720   \n",
       "\n",
       "        work_situation   no_calls  no_minutes    no_msgs   no_calls6  \\\n",
       "switch                                                                 \n",
       "0             1.472338  85.149530  125.893392  60.675365   93.192850   \n",
       "1             1.540860   0.159677    0.210167   0.091398  120.936559   \n",
       "\n",
       "        no_minutes6   no_msgs6  \n",
       "switch                          \n",
       "0        138.123700  64.942589  \n",
       "1        180.063839  52.639247  "
      ],
      "text/html": "<div>\n<style scoped>\n    .dataframe tbody tr th:only-of-type {\n        vertical-align: middle;\n    }\n\n    .dataframe tbody tr th {\n        vertical-align: top;\n    }\n\n    .dataframe thead th {\n        text-align: right;\n    }\n</style>\n<table border=\"1\" class=\"dataframe\">\n  <thead>\n    <tr style=\"text-align: right;\">\n      <th></th>\n      <th>no_months</th>\n      <th>age</th>\n      <th>income</th>\n      <th>no_months_ctr</th>\n      <th>no_months_ctr_end</th>\n      <th>phones</th>\n      <th>age_head_hh</th>\n      <th>edu_head_hh</th>\n      <th>income_head_hh</th>\n      <th>house_type</th>\n      <th>work_situation</th>\n      <th>no_calls</th>\n      <th>no_minutes</th>\n      <th>no_msgs</th>\n      <th>no_calls6</th>\n      <th>no_minutes6</th>\n      <th>no_msgs6</th>\n    </tr>\n    <tr>\n      <th>switch</th>\n      <th></th>\n      <th></th>\n      <th></th>\n      <th></th>\n      <th></th>\n      <th></th>\n      <th></th>\n      <th></th>\n      <th></th>\n      <th></th>\n      <th></th>\n      <th></th>\n      <th></th>\n      <th></th>\n      <th></th>\n      <th></th>\n      <th></th>\n    </tr>\n  </thead>\n  <tbody>\n    <tr>\n      <th>0</th>\n      <td>52.545668</td>\n      <td>39.345511</td>\n      <td>38.622035</td>\n      <td>21.602296</td>\n      <td>1.553497</td>\n      <td>2.269833</td>\n      <td>3.371347</td>\n      <td>2.093946</td>\n      <td>3.215553</td>\n      <td>3.191806</td>\n      <td>1.472338</td>\n      <td>85.149530</td>\n      <td>125.893392</td>\n      <td>60.675365</td>\n      <td>93.192850</td>\n      <td>138.123700</td>\n      <td>64.942589</td>\n    </tr>\n    <tr>\n      <th>1</th>\n      <td>49.644086</td>\n      <td>36.088710</td>\n      <td>201.819565</td>\n      <td>26.468280</td>\n      <td>-4.209140</td>\n      <td>2.591935</td>\n      <td>3.312903</td>\n      <td>2.072581</td>\n      <td>2.629032</td>\n      <td>3.531720</td>\n      <td>1.540860</td>\n      <td>0.159677</td>\n      <td>0.210167</td>\n      <td>0.091398</td>\n      <td>120.936559</td>\n      <td>180.063839</td>\n      <td>52.639247</td>\n    </tr>\n  </tbody>\n</table>\n</div>"
     },
     "metadata": {},
     "execution_count": 19
    }
   ],
   "source": [
    "# are persons with a higher or lower no_minutes, etc. more likely to switch? \n",
    "telecom.groupby(telecom.switch).mean()"
   ]
  },
  {
   "cell_type": "code",
   "execution_count": 18,
   "metadata": {},
   "outputs": [
    {
     "output_type": "stream",
     "name": "stdout",
     "text": [
      "(1, 0.944)\n",
      "(0, 0.98)\n"
     ]
    }
   ],
   "source": [
    "# We will now use this model to predict wether or not some current customers might leave or not.\n",
    "# This will typically be part of a end-user application and run e.g. weekly on the customer database\n",
    "\n",
    "def PredictSwitch(model,no_months,age,income,no_months_ctr,no_months_ctr_end,phones,age_head_hh,  \n",
    "                  edu_head_hh, income_head_hh,house_type,work_situation,no_calls,no_minutes,\n",
    "                  no_msgs,no_calls6,no_minutes6,no_msgs6):\n",
    "    import pandas as pd\n",
    "    customer=pd.DataFrame(columns=['no_months','age','income','no_months_ctr','no_months_ctr_end',\n",
    "    'phones','age_head_hh','edu_head_hh','income_head_hh','house_type','work_situation',\n",
    "    'no_calls','no_minutes','no_msgs','no_calls6','no_minutes6','no_msgs6'])\n",
    "\n",
    "    new_customer = {'no_months':no_months,\n",
    "                    'age':age,\n",
    "                    'income':income,\n",
    "                    'no_months_ctr':no_months_ctr,\n",
    "                    'no_months_ctr_end':no_months_ctr_end,\n",
    "                    'phones':phones,\n",
    "                    'age_head_hh':age_head_hh,\n",
    "                    'edu_head_hh':edu_head_hh,\n",
    "                    'income_head_hh':income_head_hh,\n",
    "                    'house_type':house_type,\n",
    "                    'work_situation':work_situation,\n",
    "                    'no_calls':no_calls,\n",
    "                    'no_minutes':no_minutes,\n",
    "                    'no_msgs':no_msgs,\n",
    "                    'no_calls6':no_calls6,\n",
    "                    'no_minutes6':no_minutes6,\n",
    "                    'no_msgs6':no_msgs6}\n",
    "    \n",
    "    customer = customer.append(new_customer,ignore_index=True)\n",
    "    # In practice the model will be saved to a file after building and fine-tuning \n",
    "    # and loaded from that file in this function\n",
    "    switch = model.predict(customer)\n",
    "    \n",
    "    # most sklearn algorithms also offer a predict_proba method that returns an array of \n",
    "    # probabilities per class:\n",
    "    switch_proba = model.predict_proba(customer)\n",
    "    return switch[0],switch_proba[0].max()\n",
    "\n",
    "\n",
    "switch = PredictSwitch(model,no_months=28,age=21,income=531.35,no_months_ctr=17,no_months_ctr_end=15,\n",
    "                       phones=1,age_head_hh=3,edu_head_hh=2,income_head_hh=1,house_type=5,\n",
    "                       work_situation=1,no_calls=0,no_minutes=0,\n",
    "                       no_msgs=0,no_calls6=106,no_minutes6=98.02,no_msgs6=15)\n",
    "\n",
    "print(switch)\n",
    "\n",
    "switch = PredictSwitch(model,no_months=24,age=46,income=300,no_months_ctr=20,no_months_ctr_end=7,\n",
    "        phones=2,age_head_hh=46,edu_head_hh=2,income_head_hh=4,house_type=5,work_situation=1,       \n",
    "        no_calls=50,no_minutes=400,no_msgs=5,no_calls6=70,no_minutes6=8,no_msgs6=10)\n",
    "\n",
    "print(switch)\n",
    "\n"
   ]
  },
  {
   "cell_type": "code",
   "execution_count": null,
   "metadata": {},
   "outputs": [],
   "source": []
  }
 ],
 "metadata": {
  "kernelspec": {
   "display_name": "Python 3",
   "language": "python",
   "name": "python3"
  },
  "language_info": {
   "codemirror_mode": {
    "name": "ipython",
    "version": 3
   },
   "file_extension": ".py",
   "mimetype": "text/x-python",
   "name": "python",
   "nbconvert_exporter": "python",
   "pygments_lexer": "ipython3",
   "version": "3.7.9-final"
  }
 },
 "nbformat": 4,
 "nbformat_minor": 2
}