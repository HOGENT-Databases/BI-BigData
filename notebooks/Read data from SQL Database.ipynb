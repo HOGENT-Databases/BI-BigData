{
 "cells": [
  {
   "cell_type": "code",
   "execution_count": 2,
   "metadata": {},
   "outputs": [],
   "source": [
    "import pandas as pd\n",
    "import pyodbc"
   ]
  },
  {
   "cell_type": "code",
   "execution_count": 3,
   "metadata": {},
   "outputs": [
    {
     "output_type": "execute_result",
     "data": {
      "text/plain": [
       "   OrderNumber  CustomerKey         Region IncomeGroup\n",
       "0      SO61342        12497         Europe    Moderate\n",
       "1      SO61344        17816         Europe         Low\n",
       "2      SO61346        16293         Europe    Moderate\n",
       "3      SO61350        11280  North America        High\n",
       "4      SO61351        11201  North America        High\n",
       "5      SO61353        16717  North America    Moderate\n",
       "6      SO61358        14456  North America        High\n",
       "7      SO61362        13648        Pacific        High\n",
       "8      SO61367        11099        Pacific    Moderate\n",
       "9      SO61372        12139  North America        High\n",
       "10     SO61373        11122        Pacific        High\n",
       "11     SO61379        16436         Europe         Low\n",
       "12     SO61381        12623         Europe         Low\n",
       "13     SO61382        15697         Europe        High\n",
       "14     SO61383        14429         Europe        High\n",
       "15     SO61384        11086  North America        High\n",
       "16     SO61385        11262  North America        High\n",
       "17     SO61386        27609  North America        High\n",
       "18     SO61388        14265  North America         Low\n",
       "19     SO61391        16497  North America         Low"
      ],
      "text/html": "<div>\n<style scoped>\n    .dataframe tbody tr th:only-of-type {\n        vertical-align: middle;\n    }\n\n    .dataframe tbody tr th {\n        vertical-align: top;\n    }\n\n    .dataframe thead th {\n        text-align: right;\n    }\n</style>\n<table border=\"1\" class=\"dataframe\">\n  <thead>\n    <tr style=\"text-align: right;\">\n      <th></th>\n      <th>OrderNumber</th>\n      <th>CustomerKey</th>\n      <th>Region</th>\n      <th>IncomeGroup</th>\n    </tr>\n  </thead>\n  <tbody>\n    <tr>\n      <th>0</th>\n      <td>SO61342</td>\n      <td>12497</td>\n      <td>Europe</td>\n      <td>Moderate</td>\n    </tr>\n    <tr>\n      <th>1</th>\n      <td>SO61344</td>\n      <td>17816</td>\n      <td>Europe</td>\n      <td>Low</td>\n    </tr>\n    <tr>\n      <th>2</th>\n      <td>SO61346</td>\n      <td>16293</td>\n      <td>Europe</td>\n      <td>Moderate</td>\n    </tr>\n    <tr>\n      <th>3</th>\n      <td>SO61350</td>\n      <td>11280</td>\n      <td>North America</td>\n      <td>High</td>\n    </tr>\n    <tr>\n      <th>4</th>\n      <td>SO61351</td>\n      <td>11201</td>\n      <td>North America</td>\n      <td>High</td>\n    </tr>\n    <tr>\n      <th>5</th>\n      <td>SO61353</td>\n      <td>16717</td>\n      <td>North America</td>\n      <td>Moderate</td>\n    </tr>\n    <tr>\n      <th>6</th>\n      <td>SO61358</td>\n      <td>14456</td>\n      <td>North America</td>\n      <td>High</td>\n    </tr>\n    <tr>\n      <th>7</th>\n      <td>SO61362</td>\n      <td>13648</td>\n      <td>Pacific</td>\n      <td>High</td>\n    </tr>\n    <tr>\n      <th>8</th>\n      <td>SO61367</td>\n      <td>11099</td>\n      <td>Pacific</td>\n      <td>Moderate</td>\n    </tr>\n    <tr>\n      <th>9</th>\n      <td>SO61372</td>\n      <td>12139</td>\n      <td>North America</td>\n      <td>High</td>\n    </tr>\n    <tr>\n      <th>10</th>\n      <td>SO61373</td>\n      <td>11122</td>\n      <td>Pacific</td>\n      <td>High</td>\n    </tr>\n    <tr>\n      <th>11</th>\n      <td>SO61379</td>\n      <td>16436</td>\n      <td>Europe</td>\n      <td>Low</td>\n    </tr>\n    <tr>\n      <th>12</th>\n      <td>SO61381</td>\n      <td>12623</td>\n      <td>Europe</td>\n      <td>Low</td>\n    </tr>\n    <tr>\n      <th>13</th>\n      <td>SO61382</td>\n      <td>15697</td>\n      <td>Europe</td>\n      <td>High</td>\n    </tr>\n    <tr>\n      <th>14</th>\n      <td>SO61383</td>\n      <td>14429</td>\n      <td>Europe</td>\n      <td>High</td>\n    </tr>\n    <tr>\n      <th>15</th>\n      <td>SO61384</td>\n      <td>11086</td>\n      <td>North America</td>\n      <td>High</td>\n    </tr>\n    <tr>\n      <th>16</th>\n      <td>SO61385</td>\n      <td>11262</td>\n      <td>North America</td>\n      <td>High</td>\n    </tr>\n    <tr>\n      <th>17</th>\n      <td>SO61386</td>\n      <td>27609</td>\n      <td>North America</td>\n      <td>High</td>\n    </tr>\n    <tr>\n      <th>18</th>\n      <td>SO61388</td>\n      <td>14265</td>\n      <td>North America</td>\n      <td>Low</td>\n    </tr>\n    <tr>\n      <th>19</th>\n      <td>SO61391</td>\n      <td>16497</td>\n      <td>North America</td>\n      <td>Low</td>\n    </tr>\n  </tbody>\n</table>\n</div>"
     },
     "metadata": {},
     "execution_count": 3
    }
   ],
   "source": [
    "# Parameters\n",
    "server = r'NB1100365'\n",
    "db = 'AdventureWorksDW2014'\n",
    "\n",
    "# Create the connection\n",
    "conn = pyodbc.connect('DRIVER={SQL Server};SERVER=' + server + ';DATABASE=' + db + ';Trusted_Connection=yes')\n",
    "\n",
    "# query db\n",
    "sql = \"SELECT top 30 * FROM vAssocSeqOrders\"\n",
    "df = pd.read_sql(sql, conn)\n",
    "df.head(20)"
   ]
  },
  {
   "cell_type": "code",
   "execution_count": null,
   "metadata": {},
   "outputs": [],
   "source": []
  }
 ],
 "metadata": {
  "kernelspec": {
   "display_name": "Python 3",
   "language": "python",
   "name": "python3"
  },
  "language_info": {
   "codemirror_mode": {
    "name": "ipython",
    "version": 3
   },
   "file_extension": ".py",
   "mimetype": "text/x-python",
   "name": "python",
   "nbconvert_exporter": "python",
   "pygments_lexer": "ipython3",
   "version": "3.7.9-final"
  }
 },
 "nbformat": 4,
 "nbformat_minor": 2
}