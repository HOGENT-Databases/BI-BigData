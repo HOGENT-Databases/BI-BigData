{
 "cells": [
  {
   "cell_type": "markdown",
   "metadata": {},
   "source": [
    "## Time series using ARIMA: exercise\n",
    "Use the tractor sales dataset to predict future sales:\n",
    "- check the stationarity of the time series\n",
    "- guess using visual techniques the optimal ARIMA parameters\n",
    "- determine the optimal ARIMA parameters and the error\n",
    "- pay attention to the train - validation - test split proportions\n",
    "- If everything goes fine you should get a better prediction than with the shampoo sales dataset. Find some possible explanations for this."
   ]
  },
  {
   "cell_type": "code",
   "execution_count": null,
   "metadata": {},
   "outputs": [],
   "source": [
    "url = 'https://raw.githubusercontent.com/HOGENT-Databases/BI-BigData/master/data/Tractor-Sales.csv'"
   ]
  },
  {
   "cell_type": "raw",
   "metadata": {},
   "source": [
    "TODO: training set opsplitsen in training en validatie omdat anders testdata \"lekt\" naar het model. Immers: het bepalen van de optimale hyperparameters p,d en q behoort tot het model. Bij het bepalen van de R2-score in de lus moet dan de validatieset gebruikt worden. Achteraf, als de optimale p,d,q gevonden zijn, moet de effectieve R2 bepaald worden met de testset. "
   ]
  }
 ],
 "metadata": {
  "kernelspec": {
   "display_name": "Python 3",
   "language": "python",
   "name": "python3"
  },
  "language_info": {
   "codemirror_mode": {
    "name": "ipython",
    "version": 3
   },
   "file_extension": ".py",
   "mimetype": "text/x-python",
   "name": "python",
   "nbconvert_exporter": "python",
   "pygments_lexer": "ipython3",
   "version": "3.7.9-final"
  }
 },
 "nbformat": 4,
 "nbformat_minor": 2
}