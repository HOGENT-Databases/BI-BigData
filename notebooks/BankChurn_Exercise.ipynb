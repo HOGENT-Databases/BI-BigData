{
 "cells": [
  {
   "source": [
    "## Exercise: bank churn \n",
    "Use the bank_churn dataset to build and use a model to predict churn of bank customers.\n",
    "\n",
    "Columns in the dataset:\n",
    "\n",
    "![](images/bankchurn.png)\n",
    "\n",
    "### Perform following tasks\n",
    "* Determine and drop features that seem irrelevant\n",
    "* Handle missing data\n",
    "* Use one-hot-encoding for categorical features\n",
    "* Choose prediction algorithm\n",
    "* Determine the label\n",
    "* Build model\n",
    "* Determine accuracy of model\n",
    "* Determine relative importance of features and interpret results\n",
    "* Write a function to determine the probability a (unseen) customer will leave\n"
   ],
   "cell_type": "markdown",
   "metadata": {}
  },
  {
   "cell_type": "code",
   "execution_count": 2,
   "metadata": {},
   "outputs": [
    {
     "output_type": "execute_result",
     "data": {
      "text/plain": [
       "(10000, 14)"
      ]
     },
     "metadata": {},
     "execution_count": 2
    }
   ],
   "source": [
    "# import the datafile \n",
    "import pandas as pd\n",
    "url = 'https://raw.githubusercontent.com/HOGENT-Databases/BI-BigData/master/data/bank_churn.csv'\n",
    "bank = pd.read_csv(url,sep=',')\n",
    "bank.shape"
   ]
  },
  {
   "cell_type": "code",
   "execution_count": null,
   "metadata": {},
   "outputs": [],
   "source": []
  }
 ],
 "metadata": {
  "kernelspec": {
   "display_name": "Python 3",
   "language": "python",
   "name": "python3"
  },
  "language_info": {
   "codemirror_mode": {
    "name": "ipython",
    "version": 3
   },
   "file_extension": ".py",
   "mimetype": "text/x-python",
   "name": "python",
   "nbconvert_exporter": "python",
   "pygments_lexer": "ipython3",
   "version": "3.7.9-final"
  }
 },
 "nbformat": 4,
 "nbformat_minor": 2
}