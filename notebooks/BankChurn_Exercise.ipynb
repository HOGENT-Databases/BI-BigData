{
 "cells": [
  {
   "cell_type": "code",
   "execution_count": 16,
   "metadata": {},
   "outputs": [
    {
     "data": {
      "text/plain": [
       "(10000, 14)"
      ]
     },
     "execution_count": 16,
     "metadata": {},
     "output_type": "execute_result"
    }
   ],
   "source": [
    "# import the datafile \n",
    "import pandas as pd\n",
    "bank = pd.read_csv('./bank_churn.csv')\n",
    "bank.shape"
   ]
  },
  {
   "cell_type": "code",
   "execution_count": 17,
   "metadata": {},
   "outputs": [
    {
     "name": "stdout",
     "output_type": "stream",
     "text": [
      "    RowNumber  CustomerId    Surname  CreditScore Geography  Gender  Age  \\\n",
      "0           1    15634602   Hargrave          619    France  Female   42   \n",
      "1           2    15647311       Hill          608     Spain  Female   41   \n",
      "2           3    15619304       Onio          502    France  Female   42   \n",
      "3           4    15701354       Boni          699    France  Female   39   \n",
      "4           5    15737888   Mitchell          850     Spain  Female   43   \n",
      "5           6    15574012        Chu          645     Spain    Male   44   \n",
      "6           7    15592531   Bartlett          822    France    Male   50   \n",
      "7           8    15656148     Obinna          376   Germany  Female   29   \n",
      "8           9    15792365         He          501    France    Male   44   \n",
      "9          10    15592389         H?          684    France    Male   27   \n",
      "10         11    15767821     Bearce          528    France    Male   31   \n",
      "11         12    15737173    Andrews          497     Spain    Male   24   \n",
      "12         13    15632264        Kay          476    France  Female   34   \n",
      "13         14    15691483       Chin          549    France  Female   25   \n",
      "14         15    15600882      Scott          635     Spain  Female   35   \n",
      "15         16    15643966    Goforth          616   Germany    Male   45   \n",
      "16         17    15737452      Romeo          653   Germany    Male   58   \n",
      "17         18    15788218  Henderson          549     Spain  Female   24   \n",
      "18         19    15661507    Muldrow          587     Spain    Male   45   \n",
      "19         20    15568982        Hao          726    France  Female   24   \n",
      "\n",
      "    Tenure    Balance  NumOfProducts  HasCrCard  IsActiveMember  \\\n",
      "0        2       0.00              1          1               1   \n",
      "1        1   83807.86              1          0               1   \n",
      "2        8  159660.80              3          1               0   \n",
      "3        1       0.00              2          0               0   \n",
      "4        2  125510.82              1          1               1   \n",
      "5        8  113755.78              2          1               0   \n",
      "6        7       0.00              2          1               1   \n",
      "7        4  115046.74              4          1               0   \n",
      "8        4  142051.07              2          0               1   \n",
      "9        2  134603.88              1          1               1   \n",
      "10       6  102016.72              2          0               0   \n",
      "11       3       0.00              2          1               0   \n",
      "12      10       0.00              2          1               0   \n",
      "13       5       0.00              2          0               0   \n",
      "14       7       0.00              2          1               1   \n",
      "15       3  143129.41              2          0               1   \n",
      "16       1  132602.88              1          1               0   \n",
      "17       9       0.00              2          1               1   \n",
      "18       6       0.00              1          0               0   \n",
      "19       6       0.00              2          1               1   \n",
      "\n",
      "    EstimatedSalary  Exited  \n",
      "0         101348.88       1  \n",
      "1         112542.58       0  \n",
      "2         113931.57       1  \n",
      "3          93826.63       0  \n",
      "4          79084.10       0  \n",
      "5         149756.71       1  \n",
      "6          10062.80       0  \n",
      "7         119346.88       1  \n",
      "8          74940.50       0  \n",
      "9          71725.73       0  \n",
      "10         80181.12       0  \n",
      "11         76390.01       0  \n",
      "12         26260.98       0  \n",
      "13        190857.79       0  \n",
      "14         65951.65       0  \n",
      "15         64327.26       0  \n",
      "16          5097.67       1  \n",
      "17         14406.41       0  \n",
      "18        158684.81       0  \n",
      "19         54724.03       0  \n"
     ]
    }
   ],
   "source": [
    "print(bank.head(20))"
   ]
  },
  {
   "cell_type": "code",
   "execution_count": 18,
   "metadata": {},
   "outputs": [
    {
     "data": {
      "text/html": [
       "<div>\n",
       "<style scoped>\n",
       "    .dataframe tbody tr th:only-of-type {\n",
       "        vertical-align: middle;\n",
       "    }\n",
       "\n",
       "    .dataframe tbody tr th {\n",
       "        vertical-align: top;\n",
       "    }\n",
       "\n",
       "    .dataframe thead th {\n",
       "        text-align: right;\n",
       "    }\n",
       "</style>\n",
       "<table border=\"1\" class=\"dataframe\">\n",
       "  <thead>\n",
       "    <tr style=\"text-align: right;\">\n",
       "      <th></th>\n",
       "      <th>RowNumber</th>\n",
       "      <th>CustomerId</th>\n",
       "      <th>Surname</th>\n",
       "      <th>CreditScore</th>\n",
       "      <th>Geography</th>\n",
       "      <th>Gender</th>\n",
       "      <th>Age</th>\n",
       "      <th>Tenure</th>\n",
       "      <th>Balance</th>\n",
       "      <th>NumOfProducts</th>\n",
       "      <th>HasCrCard</th>\n",
       "      <th>IsActiveMember</th>\n",
       "      <th>EstimatedSalary</th>\n",
       "    </tr>\n",
       "    <tr>\n",
       "      <th>Exited</th>\n",
       "      <th></th>\n",
       "      <th></th>\n",
       "      <th></th>\n",
       "      <th></th>\n",
       "      <th></th>\n",
       "      <th></th>\n",
       "      <th></th>\n",
       "      <th></th>\n",
       "      <th></th>\n",
       "      <th></th>\n",
       "      <th></th>\n",
       "      <th></th>\n",
       "      <th></th>\n",
       "    </tr>\n",
       "  </thead>\n",
       "  <tbody>\n",
       "    <tr>\n",
       "      <th>0</th>\n",
       "      <td>7963</td>\n",
       "      <td>7963</td>\n",
       "      <td>7963</td>\n",
       "      <td>7963</td>\n",
       "      <td>7963</td>\n",
       "      <td>7963</td>\n",
       "      <td>7963</td>\n",
       "      <td>7963</td>\n",
       "      <td>7963</td>\n",
       "      <td>7963</td>\n",
       "      <td>7963</td>\n",
       "      <td>7963</td>\n",
       "      <td>7963</td>\n",
       "    </tr>\n",
       "    <tr>\n",
       "      <th>1</th>\n",
       "      <td>2037</td>\n",
       "      <td>2037</td>\n",
       "      <td>2037</td>\n",
       "      <td>2037</td>\n",
       "      <td>2037</td>\n",
       "      <td>2037</td>\n",
       "      <td>2037</td>\n",
       "      <td>2037</td>\n",
       "      <td>2037</td>\n",
       "      <td>2037</td>\n",
       "      <td>2037</td>\n",
       "      <td>2037</td>\n",
       "      <td>2037</td>\n",
       "    </tr>\n",
       "  </tbody>\n",
       "</table>\n",
       "</div>"
      ],
      "text/plain": [
       "        RowNumber  CustomerId  Surname  CreditScore  Geography  Gender   Age  \\\n",
       "Exited                                                                         \n",
       "0            7963        7963     7963         7963       7963    7963  7963   \n",
       "1            2037        2037     2037         2037       2037    2037  2037   \n",
       "\n",
       "        Tenure  Balance  NumOfProducts  HasCrCard  IsActiveMember  \\\n",
       "Exited                                                              \n",
       "0         7963     7963           7963       7963            7963   \n",
       "1         2037     2037           2037       2037            2037   \n",
       "\n",
       "        EstimatedSalary  \n",
       "Exited                   \n",
       "0                  7963  \n",
       "1                  2037  "
      ]
     },
     "execution_count": 18,
     "metadata": {},
     "output_type": "execute_result"
    }
   ],
   "source": [
    "bank.groupby(bank.Exited).count()"
   ]
  },
  {
   "cell_type": "code",
   "execution_count": 19,
   "metadata": {},
   "outputs": [],
   "source": [
    "# drop features that seem irrelevant\n",
    "bank = bank.drop('RowNumber',axis=1).drop('CustomerId',axis=1).drop('Surname',axis=1)"
   ]
  },
  {
   "cell_type": "code",
   "execution_count": 20,
   "metadata": {},
   "outputs": [
    {
     "data": {
      "text/plain": [
       "(10000, 11)"
      ]
     },
     "execution_count": 20,
     "metadata": {},
     "output_type": "execute_result"
    }
   ],
   "source": [
    "# drop lines with unknown (NaN) values\n",
    "bank = bank.dropna()\n",
    "bank.shape"
   ]
  },
  {
   "cell_type": "code",
   "execution_count": 21,
   "metadata": {},
   "outputs": [],
   "source": [
    "# use one-hot encoding for gender and geography\n",
    "import numpy as np\n",
    "bank = pd.get_dummies(bank,columns=['Gender','Geography'])"
   ]
  },
  {
   "cell_type": "code",
   "execution_count": 22,
   "metadata": {},
   "outputs": [
    {
     "data": {
      "text/html": [
       "<div>\n",
       "<style scoped>\n",
       "    .dataframe tbody tr th:only-of-type {\n",
       "        vertical-align: middle;\n",
       "    }\n",
       "\n",
       "    .dataframe tbody tr th {\n",
       "        vertical-align: top;\n",
       "    }\n",
       "\n",
       "    .dataframe thead th {\n",
       "        text-align: right;\n",
       "    }\n",
       "</style>\n",
       "<table border=\"1\" class=\"dataframe\">\n",
       "  <thead>\n",
       "    <tr style=\"text-align: right;\">\n",
       "      <th></th>\n",
       "      <th>CreditScore</th>\n",
       "      <th>Age</th>\n",
       "      <th>Tenure</th>\n",
       "      <th>Balance</th>\n",
       "      <th>NumOfProducts</th>\n",
       "      <th>HasCrCard</th>\n",
       "      <th>IsActiveMember</th>\n",
       "      <th>EstimatedSalary</th>\n",
       "      <th>Exited</th>\n",
       "      <th>Gender_Female</th>\n",
       "      <th>Gender_Male</th>\n",
       "      <th>Geography_France</th>\n",
       "      <th>Geography_Germany</th>\n",
       "      <th>Geography_Spain</th>\n",
       "    </tr>\n",
       "  </thead>\n",
       "  <tbody>\n",
       "    <tr>\n",
       "      <th>0</th>\n",
       "      <td>619</td>\n",
       "      <td>42</td>\n",
       "      <td>2</td>\n",
       "      <td>0.00</td>\n",
       "      <td>1</td>\n",
       "      <td>1</td>\n",
       "      <td>1</td>\n",
       "      <td>101348.88</td>\n",
       "      <td>1</td>\n",
       "      <td>1</td>\n",
       "      <td>0</td>\n",
       "      <td>1</td>\n",
       "      <td>0</td>\n",
       "      <td>0</td>\n",
       "    </tr>\n",
       "    <tr>\n",
       "      <th>1</th>\n",
       "      <td>608</td>\n",
       "      <td>41</td>\n",
       "      <td>1</td>\n",
       "      <td>83807.86</td>\n",
       "      <td>1</td>\n",
       "      <td>0</td>\n",
       "      <td>1</td>\n",
       "      <td>112542.58</td>\n",
       "      <td>0</td>\n",
       "      <td>1</td>\n",
       "      <td>0</td>\n",
       "      <td>0</td>\n",
       "      <td>0</td>\n",
       "      <td>1</td>\n",
       "    </tr>\n",
       "    <tr>\n",
       "      <th>2</th>\n",
       "      <td>502</td>\n",
       "      <td>42</td>\n",
       "      <td>8</td>\n",
       "      <td>159660.80</td>\n",
       "      <td>3</td>\n",
       "      <td>1</td>\n",
       "      <td>0</td>\n",
       "      <td>113931.57</td>\n",
       "      <td>1</td>\n",
       "      <td>1</td>\n",
       "      <td>0</td>\n",
       "      <td>1</td>\n",
       "      <td>0</td>\n",
       "      <td>0</td>\n",
       "    </tr>\n",
       "    <tr>\n",
       "      <th>3</th>\n",
       "      <td>699</td>\n",
       "      <td>39</td>\n",
       "      <td>1</td>\n",
       "      <td>0.00</td>\n",
       "      <td>2</td>\n",
       "      <td>0</td>\n",
       "      <td>0</td>\n",
       "      <td>93826.63</td>\n",
       "      <td>0</td>\n",
       "      <td>1</td>\n",
       "      <td>0</td>\n",
       "      <td>1</td>\n",
       "      <td>0</td>\n",
       "      <td>0</td>\n",
       "    </tr>\n",
       "    <tr>\n",
       "      <th>4</th>\n",
       "      <td>850</td>\n",
       "      <td>43</td>\n",
       "      <td>2</td>\n",
       "      <td>125510.82</td>\n",
       "      <td>1</td>\n",
       "      <td>1</td>\n",
       "      <td>1</td>\n",
       "      <td>79084.10</td>\n",
       "      <td>0</td>\n",
       "      <td>1</td>\n",
       "      <td>0</td>\n",
       "      <td>0</td>\n",
       "      <td>0</td>\n",
       "      <td>1</td>\n",
       "    </tr>\n",
       "  </tbody>\n",
       "</table>\n",
       "</div>"
      ],
      "text/plain": [
       "   CreditScore  Age  Tenure    Balance  NumOfProducts  HasCrCard  \\\n",
       "0          619   42       2       0.00              1          1   \n",
       "1          608   41       1   83807.86              1          0   \n",
       "2          502   42       8  159660.80              3          1   \n",
       "3          699   39       1       0.00              2          0   \n",
       "4          850   43       2  125510.82              1          1   \n",
       "\n",
       "   IsActiveMember  EstimatedSalary  Exited  Gender_Female  Gender_Male  \\\n",
       "0               1        101348.88       1              1            0   \n",
       "1               1        112542.58       0              1            0   \n",
       "2               0        113931.57       1              1            0   \n",
       "3               0         93826.63       0              1            0   \n",
       "4               1         79084.10       0              1            0   \n",
       "\n",
       "   Geography_France  Geography_Germany  Geography_Spain  \n",
       "0                 1                  0                0  \n",
       "1                 0                  0                1  \n",
       "2                 1                  0                0  \n",
       "3                 1                  0                0  \n",
       "4                 0                  0                1  "
      ]
     },
     "execution_count": 22,
     "metadata": {},
     "output_type": "execute_result"
    }
   ],
   "source": [
    "bank.head()"
   ]
  },
  {
   "cell_type": "code",
   "execution_count": 32,
   "metadata": {},
   "outputs": [],
   "source": [
    "# determine training set, test set and label\n",
    "from sklearn.model_selection import train_test_split\n",
    "X = bank.drop('Exited',axis=1)\n",
    "y = bank['Exited']\n",
    "X_train, X_test, y_train, y_test = train_test_split(X,y,test_size=0.30)"
   ]
  },
  {
   "cell_type": "code",
   "execution_count": 33,
   "metadata": {},
   "outputs": [
    {
     "data": {
      "text/plain": [
       "GaussianNB(priors=None, var_smoothing=1e-09)"
      ]
     },
     "execution_count": 33,
     "metadata": {},
     "output_type": "execute_result"
    }
   ],
   "source": [
    "# build model\n",
    "from sklearn.ensemble import RandomForestClassifier\n",
    "from sklearn.naive_bayes import GaussianNB\n",
    "model = GaussianNB()\n",
    "model.fit(X_train, y_train)"
   ]
  },
  {
   "cell_type": "code",
   "execution_count": 34,
   "metadata": {},
   "outputs": [],
   "source": [
    "# predict label for test set\n",
    "y_test2 = model.predict(X_test)"
   ]
  },
  {
   "cell_type": "code",
   "execution_count": 35,
   "metadata": {},
   "outputs": [
    {
     "data": {
      "text/plain": [
       "0.7976666666666666"
      ]
     },
     "execution_count": 35,
     "metadata": {},
     "output_type": "execute_result"
    }
   ],
   "source": [
    "# determine accuracy\n",
    "from sklearn.metrics import accuracy_score\n",
    "accuracy_score(y_test, y_test2)"
   ]
  },
  {
   "cell_type": "code",
   "execution_count": 27,
   "metadata": {},
   "outputs": [
    {
     "name": "stdout",
     "output_type": "stream",
     "text": [
      "Index(['CreditScore', 'Age', 'Tenure', 'Balance', 'NumOfProducts', 'HasCrCard',\n",
      "       'IsActiveMember', 'EstimatedSalary', 'Gender_Female', 'Gender_Male',\n",
      "       'Geography_France', 'Geography_Germany', 'Geography_Spain'],\n",
      "      dtype='object')\n",
      "[0.14189846 0.24525899 0.08368351 0.13988044 0.12383877 0.01798132\n",
      " 0.04281104 0.14774467 0.00856338 0.00897691 0.01121407 0.01886766\n",
      " 0.00928079]\n"
     ]
    }
   ],
   "source": [
    "# determine feature importances\n",
    "print(X_train.columns)\n",
    "print(model.feature_importances_)"
   ]
  },
  {
   "cell_type": "code",
   "execution_count": 28,
   "metadata": {},
   "outputs": [],
   "source": [
    "# we now combine those two collections into a dataframe\n",
    "imp = pd.DataFrame(model.feature_importances_,columns=['Importance'],index=X_train.columns). \\\n",
    "sort_values(by='Importance',ascending=False)"
   ]
  },
  {
   "cell_type": "code",
   "execution_count": 14,
   "metadata": {},
   "outputs": [
    {
     "data": {
      "text/html": [
       "<div>\n",
       "<style scoped>\n",
       "    .dataframe tbody tr th:only-of-type {\n",
       "        vertical-align: middle;\n",
       "    }\n",
       "\n",
       "    .dataframe tbody tr th {\n",
       "        vertical-align: top;\n",
       "    }\n",
       "\n",
       "    .dataframe thead th {\n",
       "        text-align: right;\n",
       "    }\n",
       "</style>\n",
       "<table border=\"1\" class=\"dataframe\">\n",
       "  <thead>\n",
       "    <tr style=\"text-align: right;\">\n",
       "      <th></th>\n",
       "      <th>Importance</th>\n",
       "    </tr>\n",
       "  </thead>\n",
       "  <tbody>\n",
       "    <tr>\n",
       "      <th>Age</th>\n",
       "      <td>0.236765</td>\n",
       "    </tr>\n",
       "    <tr>\n",
       "      <th>CreditScore</th>\n",
       "      <td>0.142251</td>\n",
       "    </tr>\n",
       "    <tr>\n",
       "      <th>EstimatedSalary</th>\n",
       "      <td>0.141392</td>\n",
       "    </tr>\n",
       "    <tr>\n",
       "      <th>Balance</th>\n",
       "      <td>0.139053</td>\n",
       "    </tr>\n",
       "    <tr>\n",
       "      <th>NumOfProducts</th>\n",
       "      <td>0.127299</td>\n",
       "    </tr>\n",
       "    <tr>\n",
       "      <th>Tenure</th>\n",
       "      <td>0.087609</td>\n",
       "    </tr>\n",
       "    <tr>\n",
       "      <th>IsActiveMember</th>\n",
       "      <td>0.044512</td>\n",
       "    </tr>\n",
       "    <tr>\n",
       "      <th>Geography_Germany</th>\n",
       "      <td>0.021731</td>\n",
       "    </tr>\n",
       "    <tr>\n",
       "      <th>HasCrCard</th>\n",
       "      <td>0.018381</td>\n",
       "    </tr>\n",
       "    <tr>\n",
       "      <th>Geography_France</th>\n",
       "      <td>0.011291</td>\n",
       "    </tr>\n",
       "    <tr>\n",
       "      <th>Gender_Female</th>\n",
       "      <td>0.010632</td>\n",
       "    </tr>\n",
       "    <tr>\n",
       "      <th>Geography_Spain</th>\n",
       "      <td>0.009810</td>\n",
       "    </tr>\n",
       "    <tr>\n",
       "      <th>Gender_Male</th>\n",
       "      <td>0.009273</td>\n",
       "    </tr>\n",
       "  </tbody>\n",
       "</table>\n",
       "</div>"
      ],
      "text/plain": [
       "                   Importance\n",
       "Age                  0.236765\n",
       "CreditScore          0.142251\n",
       "EstimatedSalary      0.141392\n",
       "Balance              0.139053\n",
       "NumOfProducts        0.127299\n",
       "Tenure               0.087609\n",
       "IsActiveMember       0.044512\n",
       "Geography_Germany    0.021731\n",
       "HasCrCard            0.018381\n",
       "Geography_France     0.011291\n",
       "Gender_Female        0.010632\n",
       "Geography_Spain      0.009810\n",
       "Gender_Male          0.009273"
      ]
     },
     "execution_count": 14,
     "metadata": {},
     "output_type": "execute_result"
    }
   ],
   "source": [
    "imp"
   ]
  },
  {
   "cell_type": "code",
   "execution_count": 15,
   "metadata": {},
   "outputs": [
    {
     "name": "stdout",
     "output_type": "stream",
     "text": [
      "   CreditScore  Age  Tenure    Balance  NumOfProducts  HasCrCard  \\\n",
      "0          619   42       2       0.00              1          1   \n",
      "1          608   41       1   83807.86              1          0   \n",
      "2          502   42       8  159660.80              3          1   \n",
      "3          699   39       1       0.00              2          0   \n",
      "4          850   43       2  125510.82              1          1   \n",
      "\n",
      "   IsActiveMember  EstimatedSalary  Exited  Gender_Female  Gender_Male  \\\n",
      "0               1        101348.88       1              1            0   \n",
      "1               1        112542.58       0              1            0   \n",
      "2               0        113931.57       1              1            0   \n",
      "3               0         93826.63       0              1            0   \n",
      "4               1         79084.10       0              1            0   \n",
      "\n",
      "   Geography_France  Geography_Germany  Geography_Spain  Agecat  \n",
      "0                 1                  0                0    40.0  \n",
      "1                 0                  0                1    40.0  \n",
      "2                 1                  0                0    40.0  \n",
      "3                 1                  0                0    30.0  \n",
      "4                 0                  0                1    40.0  \n"
     ]
    }
   ],
   "source": [
    "# import numpy as np\n",
    "bank['Agecat'] = np.floor(bank['Age']/10)*10\n",
    "print(bank.head())"
   ]
  },
  {
   "cell_type": "code",
   "execution_count": 22,
   "metadata": {},
   "outputs": [
    {
     "data": {
      "text/plain": [
       "Agecat\n",
       "10.0    0.061224\n",
       "20.0    0.076005\n",
       "30.0    0.108836\n",
       "40.0    0.307869\n",
       "50.0    0.560414\n",
       "60.0    0.352000\n",
       "70.0    0.102941\n",
       "80.0    0.076923\n",
       "90.0    0.000000\n",
       "Name: Exited, dtype: float64"
      ]
     },
     "execution_count": 22,
     "metadata": {},
     "output_type": "execute_result"
    }
   ],
   "source": [
    "bank.groupby('Agecat')['Exited'].mean()"
   ]
  },
  {
   "cell_type": "code",
   "execution_count": null,
   "metadata": {},
   "outputs": [],
   "source": []
  }
 ],
 "metadata": {
  "kernelspec": {
   "display_name": "Python 3",
   "language": "python",
   "name": "python3"
  },
  "language_info": {
   "codemirror_mode": {
    "name": "ipython",
    "version": 3
   },
   "file_extension": ".py",
   "mimetype": "text/x-python",
   "name": "python",
   "nbconvert_exporter": "python",
   "pygments_lexer": "ipython3",
   "version": "3.6.8"
  }
 },
 "nbformat": 4,
 "nbformat_minor": 2
}
