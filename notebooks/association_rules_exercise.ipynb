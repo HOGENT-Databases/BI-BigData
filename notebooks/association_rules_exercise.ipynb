{
 "metadata": {
  "language_info": {
   "codemirror_mode": {
    "name": "ipython",
    "version": 3
   },
   "file_extension": ".py",
   "mimetype": "text/x-python",
   "name": "python",
   "nbconvert_exporter": "python",
   "pygments_lexer": "ipython3",
   "version": 3
  },
  "orig_nbformat": 2
 },
 "nbformat": 4,
 "nbformat_minor": 2,
 "cells": [
  {
   "source": [
    "Ue data the csv file adventureworks_assoc.csv.  Determine which items are often bought together when\n",
    "\n",
    "* “together” means “same order”\n",
    "* “together” means “same customer”\n",
    "\n",
    "Play around with the values for support and lift to limit the number of rules. \n"
   ],
   "cell_type": "markdown",
   "metadata": {}
  },
  {
   "cell_type": "code",
   "execution_count": null,
   "metadata": {},
   "outputs": [],
   "source": [
    "import pandas as pd\n",
    "url = 'https://raw.githubusercontent.com/HOGENT-Databases/BI-BigData/master/data/adventureworks_assoc.csv'\n",
    "df = pd.read_csv(url,sep=';')\n",
    "df.shape"
   ]
  }
 ]
}