{
 "cells": [
  {
   "cell_type": "code",
   "execution_count": 35,
   "metadata": {},
   "outputs": [
    {
     "output_type": "execute_result",
     "data": {
      "text/plain": [
       "(10000, 14)"
      ]
     },
     "metadata": {},
     "execution_count": 35
    }
   ],
   "source": [
    "# import the datafile \n",
    "import pandas as pd\n",
    "url = 'https://raw.githubusercontent.com/HOGENT-Databases/BI-BigData/master/data/bank_churn.csv'\n",
    "bank = pd.read_csv(url,sep=',')\n",
    "bank.shape"
   ]
  },
  {
   "cell_type": "code",
   "execution_count": 36,
   "metadata": {},
   "outputs": [
    {
     "output_type": "execute_result",
     "data": {
      "text/plain": [
       "Index(['RowNumber', 'CustomerId', 'Surname', 'CreditScore', 'Geography',\n",
       "       'Gender', 'Age', 'Tenure', 'Balance', 'NumOfProducts', 'HasCrCard',\n",
       "       'IsActiveMember', 'EstimatedSalary', 'Exited'],\n",
       "      dtype='object')"
      ]
     },
     "metadata": {},
     "execution_count": 36
    }
   ],
   "source": [
    "bank.columns"
   ]
  },
  {
   "cell_type": "code",
   "execution_count": 20,
   "metadata": {},
   "outputs": [
    {
     "output_type": "stream",
     "name": "stdout",
     "text": [
      "    RowNumber  CustomerId    Surname  CreditScore Geography  Gender  Age  \\\n0           1    15634602   Hargrave          619    France  Female   42   \n1           2    15647311       Hill          608     Spain  Female   41   \n2           3    15619304       Onio          502    France  Female   42   \n3           4    15701354       Boni          699    France  Female   39   \n4           5    15737888   Mitchell          850     Spain  Female   43   \n5           6    15574012        Chu          645     Spain    Male   44   \n6           7    15592531   Bartlett          822    France    Male   50   \n7           8    15656148     Obinna          376   Germany  Female   29   \n8           9    15792365         He          501    France    Male   44   \n9          10    15592389         H?          684    France    Male   27   \n10         11    15767821     Bearce          528    France    Male   31   \n11         12    15737173    Andrews          497     Spain    Male   24   \n12         13    15632264        Kay          476    France  Female   34   \n13         14    15691483       Chin          549    France  Female   25   \n14         15    15600882      Scott          635     Spain  Female   35   \n15         16    15643966    Goforth          616   Germany    Male   45   \n16         17    15737452      Romeo          653   Germany    Male   58   \n17         18    15788218  Henderson          549     Spain  Female   24   \n18         19    15661507    Muldrow          587     Spain    Male   45   \n19         20    15568982        Hao          726    France  Female   24   \n\n    Tenure    Balance  NumOfProducts  HasCrCard  IsActiveMember  \\\n0        2       0.00              1          1               1   \n1        1   83807.86              1          0               1   \n2        8  159660.80              3          1               0   \n3        1       0.00              2          0               0   \n4        2  125510.82              1          1               1   \n5        8  113755.78              2          1               0   \n6        7       0.00              2          1               1   \n7        4  115046.74              4          1               0   \n8        4  142051.07              2          0               1   \n9        2  134603.88              1          1               1   \n10       6  102016.72              2          0               0   \n11       3       0.00              2          1               0   \n12      10       0.00              2          1               0   \n13       5       0.00              2          0               0   \n14       7       0.00              2          1               1   \n15       3  143129.41              2          0               1   \n16       1  132602.88              1          1               0   \n17       9       0.00              2          1               1   \n18       6       0.00              1          0               0   \n19       6       0.00              2          1               1   \n\n    EstimatedSalary  Exited  \n0         101348.88       1  \n1         112542.58       0  \n2         113931.57       1  \n3          93826.63       0  \n4          79084.10       0  \n5         149756.71       1  \n6          10062.80       0  \n7         119346.88       1  \n8          74940.50       0  \n9          71725.73       0  \n10         80181.12       0  \n11         76390.01       0  \n12         26260.98       0  \n13        190857.79       0  \n14         65951.65       0  \n15         64327.26       0  \n16          5097.67       1  \n17         14406.41       0  \n18        158684.81       0  \n19         54724.03       0  \n"
     ]
    }
   ],
   "source": [
    "print(bank.head(20))"
   ]
  },
  {
   "cell_type": "code",
   "execution_count": 37,
   "metadata": {},
   "outputs": [
    {
     "output_type": "execute_result",
     "data": {
      "text/plain": [
       "        RowNumber  CustomerId  Surname  CreditScore  Geography  Gender   Age  \\\n",
       "Exited                                                                         \n",
       "0            7963        7963     7963         7963       7963    7963  7963   \n",
       "1            2037        2037     2037         2037       2037    2037  2037   \n",
       "\n",
       "        Tenure  Balance  NumOfProducts  HasCrCard  IsActiveMember  \\\n",
       "Exited                                                              \n",
       "0         7963     7963           7963       7963            7963   \n",
       "1         2037     2037           2037       2037            2037   \n",
       "\n",
       "        EstimatedSalary  \n",
       "Exited                   \n",
       "0                  7963  \n",
       "1                  2037  "
      ],
      "text/html": "<div>\n<style scoped>\n    .dataframe tbody tr th:only-of-type {\n        vertical-align: middle;\n    }\n\n    .dataframe tbody tr th {\n        vertical-align: top;\n    }\n\n    .dataframe thead th {\n        text-align: right;\n    }\n</style>\n<table border=\"1\" class=\"dataframe\">\n  <thead>\n    <tr style=\"text-align: right;\">\n      <th></th>\n      <th>RowNumber</th>\n      <th>CustomerId</th>\n      <th>Surname</th>\n      <th>CreditScore</th>\n      <th>Geography</th>\n      <th>Gender</th>\n      <th>Age</th>\n      <th>Tenure</th>\n      <th>Balance</th>\n      <th>NumOfProducts</th>\n      <th>HasCrCard</th>\n      <th>IsActiveMember</th>\n      <th>EstimatedSalary</th>\n    </tr>\n    <tr>\n      <th>Exited</th>\n      <th></th>\n      <th></th>\n      <th></th>\n      <th></th>\n      <th></th>\n      <th></th>\n      <th></th>\n      <th></th>\n      <th></th>\n      <th></th>\n      <th></th>\n      <th></th>\n      <th></th>\n    </tr>\n  </thead>\n  <tbody>\n    <tr>\n      <th>0</th>\n      <td>7963</td>\n      <td>7963</td>\n      <td>7963</td>\n      <td>7963</td>\n      <td>7963</td>\n      <td>7963</td>\n      <td>7963</td>\n      <td>7963</td>\n      <td>7963</td>\n      <td>7963</td>\n      <td>7963</td>\n      <td>7963</td>\n      <td>7963</td>\n    </tr>\n    <tr>\n      <th>1</th>\n      <td>2037</td>\n      <td>2037</td>\n      <td>2037</td>\n      <td>2037</td>\n      <td>2037</td>\n      <td>2037</td>\n      <td>2037</td>\n      <td>2037</td>\n      <td>2037</td>\n      <td>2037</td>\n      <td>2037</td>\n      <td>2037</td>\n      <td>2037</td>\n    </tr>\n  </tbody>\n</table>\n</div>"
     },
     "metadata": {},
     "execution_count": 37
    }
   ],
   "source": [
    "bank.groupby(bank.Exited).count()"
   ]
  },
  {
   "cell_type": "code",
   "execution_count": 38,
   "metadata": {},
   "outputs": [],
   "source": [
    "# drop features that seem irrelevant\n",
    "bank = bank.drop(['RowNumber','CustomerId','Surname'],axis=1)"
   ]
  },
  {
   "cell_type": "code",
   "execution_count": 39,
   "metadata": {},
   "outputs": [
    {
     "output_type": "execute_result",
     "data": {
      "text/plain": [
       "CreditScore        0.0\n",
       "Geography          0.0\n",
       "Gender             0.0\n",
       "Age                0.0\n",
       "Tenure             0.0\n",
       "Balance            0.0\n",
       "NumOfProducts      0.0\n",
       "HasCrCard          0.0\n",
       "IsActiveMember     0.0\n",
       "EstimatedSalary    0.0\n",
       "Exited             0.0\n",
       "dtype: float64"
      ]
     },
     "metadata": {},
     "execution_count": 39
    }
   ],
   "source": [
    "# Count missing values as proportion of total number of rows\n",
    "bank.isna().sum()/len(bank)"
   ]
  },
  {
   "cell_type": "code",
   "execution_count": 24,
   "metadata": {},
   "outputs": [],
   "source": [
    "# use one-hot encoding for gender and geography\n",
    "bank = pd.get_dummies(bank,columns=['Gender','Geography'])"
   ]
  },
  {
   "cell_type": "code",
   "execution_count": 25,
   "metadata": {},
   "outputs": [
    {
     "output_type": "execute_result",
     "data": {
      "text/plain": [
       "   CreditScore  Age  Tenure    Balance  NumOfProducts  HasCrCard  \\\n",
       "0          619   42       2       0.00              1          1   \n",
       "1          608   41       1   83807.86              1          0   \n",
       "2          502   42       8  159660.80              3          1   \n",
       "3          699   39       1       0.00              2          0   \n",
       "4          850   43       2  125510.82              1          1   \n",
       "\n",
       "   IsActiveMember  EstimatedSalary  Exited  Gender_Female  Gender_Male  \\\n",
       "0               1        101348.88       1              1            0   \n",
       "1               1        112542.58       0              1            0   \n",
       "2               0        113931.57       1              1            0   \n",
       "3               0         93826.63       0              1            0   \n",
       "4               1         79084.10       0              1            0   \n",
       "\n",
       "   Geography_France  Geography_Germany  Geography_Spain  \n",
       "0                 1                  0                0  \n",
       "1                 0                  0                1  \n",
       "2                 1                  0                0  \n",
       "3                 1                  0                0  \n",
       "4                 0                  0                1  "
      ],
      "text/html": "<div>\n<style scoped>\n    .dataframe tbody tr th:only-of-type {\n        vertical-align: middle;\n    }\n\n    .dataframe tbody tr th {\n        vertical-align: top;\n    }\n\n    .dataframe thead th {\n        text-align: right;\n    }\n</style>\n<table border=\"1\" class=\"dataframe\">\n  <thead>\n    <tr style=\"text-align: right;\">\n      <th></th>\n      <th>CreditScore</th>\n      <th>Age</th>\n      <th>Tenure</th>\n      <th>Balance</th>\n      <th>NumOfProducts</th>\n      <th>HasCrCard</th>\n      <th>IsActiveMember</th>\n      <th>EstimatedSalary</th>\n      <th>Exited</th>\n      <th>Gender_Female</th>\n      <th>Gender_Male</th>\n      <th>Geography_France</th>\n      <th>Geography_Germany</th>\n      <th>Geography_Spain</th>\n    </tr>\n  </thead>\n  <tbody>\n    <tr>\n      <th>0</th>\n      <td>619</td>\n      <td>42</td>\n      <td>2</td>\n      <td>0.00</td>\n      <td>1</td>\n      <td>1</td>\n      <td>1</td>\n      <td>101348.88</td>\n      <td>1</td>\n      <td>1</td>\n      <td>0</td>\n      <td>1</td>\n      <td>0</td>\n      <td>0</td>\n    </tr>\n    <tr>\n      <th>1</th>\n      <td>608</td>\n      <td>41</td>\n      <td>1</td>\n      <td>83807.86</td>\n      <td>1</td>\n      <td>0</td>\n      <td>1</td>\n      <td>112542.58</td>\n      <td>0</td>\n      <td>1</td>\n      <td>0</td>\n      <td>0</td>\n      <td>0</td>\n      <td>1</td>\n    </tr>\n    <tr>\n      <th>2</th>\n      <td>502</td>\n      <td>42</td>\n      <td>8</td>\n      <td>159660.80</td>\n      <td>3</td>\n      <td>1</td>\n      <td>0</td>\n      <td>113931.57</td>\n      <td>1</td>\n      <td>1</td>\n      <td>0</td>\n      <td>1</td>\n      <td>0</td>\n      <td>0</td>\n    </tr>\n    <tr>\n      <th>3</th>\n      <td>699</td>\n      <td>39</td>\n      <td>1</td>\n      <td>0.00</td>\n      <td>2</td>\n      <td>0</td>\n      <td>0</td>\n      <td>93826.63</td>\n      <td>0</td>\n      <td>1</td>\n      <td>0</td>\n      <td>1</td>\n      <td>0</td>\n      <td>0</td>\n    </tr>\n    <tr>\n      <th>4</th>\n      <td>850</td>\n      <td>43</td>\n      <td>2</td>\n      <td>125510.82</td>\n      <td>1</td>\n      <td>1</td>\n      <td>1</td>\n      <td>79084.10</td>\n      <td>0</td>\n      <td>1</td>\n      <td>0</td>\n      <td>0</td>\n      <td>0</td>\n      <td>1</td>\n    </tr>\n  </tbody>\n</table>\n</div>"
     },
     "metadata": {},
     "execution_count": 25
    }
   ],
   "source": [
    "bank.head()"
   ]
  },
  {
   "cell_type": "code",
   "execution_count": 26,
   "metadata": {},
   "outputs": [],
   "source": [
    "# determine feature set and label\n",
    "\n",
    "X = bank.drop('Exited',axis=1)\n",
    "y = bank['Exited']"
   ]
  },
  {
   "cell_type": "code",
   "execution_count": 27,
   "metadata": {},
   "outputs": [
    {
     "output_type": "stream",
     "name": "stdout",
     "text": [
      "Optimal number of trees = 450\nAccuracy on validation set =  0.87\nAccuracy on test set =  0.87\n"
     ]
    }
   ],
   "source": [
    "# build model (see course Databases III)\n",
    "from sklearn.model_selection import train_test_split\n",
    "X_remainder, X_test, y_remainder, y_test = train_test_split(X,y,test_size=0.30)\n",
    "\n",
    "from sklearn.ensemble import RandomForestClassifier\n",
    "\n",
    "from sklearn.metrics import accuracy_score\n",
    "\n",
    "best_accuracy = 0\n",
    "best_trees = 0\n",
    "\n",
    "for trees in range(50,550,50):\n",
    "    X_train, X_validation, y_train, y_validation = train_test_split(X_remainder,y_remainder,test_size=0.30)\n",
    "    model = RandomForestClassifier(n_estimators=trees)\n",
    "    model.fit(X_train, y_train)    \n",
    "    y_validation2 = model.predict(X_validation)\n",
    "    accuracy = accuracy_score(y_validation, y_validation2)\n",
    "    if accuracy > best_accuracy:\n",
    "        best_accuracy = accuracy\n",
    "        best_trees = trees\n",
    "        best_validation = model.predict(X_test)\n",
    "        \n",
    "print('Optimal number of trees = % s' %(best_trees))\n",
    "print('Accuracy on validation set = % 3.2f' % (best_accuracy)) \n",
    "accuracyOnTestSet = accuracy_score(y_test, best_validation)\n",
    "print('Accuracy on test set = % 3.2f' % (accuracyOnTestSet))"
   ]
  },
  {
   "cell_type": "code",
   "execution_count": 28,
   "metadata": {},
   "outputs": [
    {
     "output_type": "stream",
     "name": "stdout",
     "text": [
      "Index(['CreditScore', 'Age', 'Tenure', 'Balance', 'NumOfProducts', 'HasCrCard',\n       'IsActiveMember', 'EstimatedSalary', 'Gender_Female', 'Gender_Male',\n       'Geography_France', 'Geography_Germany', 'Geography_Spain'],\n      dtype='object')\n[0.14258281 0.22987379 0.08557601 0.13819806 0.1298737  0.02011649\n 0.04373948 0.14540538 0.01104715 0.01050101 0.01122268 0.02209685\n 0.0097666 ]\n"
     ]
    }
   ],
   "source": [
    "# determine feature importances\n",
    "print(X_train.columns)\n",
    "print(model.feature_importances_)"
   ]
  },
  {
   "cell_type": "code",
   "execution_count": 29,
   "metadata": {},
   "outputs": [],
   "source": [
    "# we now combine those two collections into a dataframe\n",
    "importances = pd.DataFrame(model.feature_importances_,columns=['Importance'],index=X_train.columns). \\\n",
    "sort_values(by='Importance',ascending=False).reset_index()"
   ]
  },
  {
   "cell_type": "code",
   "execution_count": 30,
   "metadata": {},
   "outputs": [
    {
     "output_type": "execute_result",
     "data": {
      "text/plain": [
       "                index  Importance\n",
       "0                 Age    0.229874\n",
       "1     EstimatedSalary    0.145405\n",
       "2         CreditScore    0.142583\n",
       "3             Balance    0.138198\n",
       "4       NumOfProducts    0.129874\n",
       "5              Tenure    0.085576\n",
       "6      IsActiveMember    0.043739\n",
       "7   Geography_Germany    0.022097\n",
       "8           HasCrCard    0.020116\n",
       "9    Geography_France    0.011223\n",
       "10      Gender_Female    0.011047\n",
       "11        Gender_Male    0.010501\n",
       "12    Geography_Spain    0.009767"
      ],
      "text/html": "<div>\n<style scoped>\n    .dataframe tbody tr th:only-of-type {\n        vertical-align: middle;\n    }\n\n    .dataframe tbody tr th {\n        vertical-align: top;\n    }\n\n    .dataframe thead th {\n        text-align: right;\n    }\n</style>\n<table border=\"1\" class=\"dataframe\">\n  <thead>\n    <tr style=\"text-align: right;\">\n      <th></th>\n      <th>index</th>\n      <th>Importance</th>\n    </tr>\n  </thead>\n  <tbody>\n    <tr>\n      <th>0</th>\n      <td>Age</td>\n      <td>0.229874</td>\n    </tr>\n    <tr>\n      <th>1</th>\n      <td>EstimatedSalary</td>\n      <td>0.145405</td>\n    </tr>\n    <tr>\n      <th>2</th>\n      <td>CreditScore</td>\n      <td>0.142583</td>\n    </tr>\n    <tr>\n      <th>3</th>\n      <td>Balance</td>\n      <td>0.138198</td>\n    </tr>\n    <tr>\n      <th>4</th>\n      <td>NumOfProducts</td>\n      <td>0.129874</td>\n    </tr>\n    <tr>\n      <th>5</th>\n      <td>Tenure</td>\n      <td>0.085576</td>\n    </tr>\n    <tr>\n      <th>6</th>\n      <td>IsActiveMember</td>\n      <td>0.043739</td>\n    </tr>\n    <tr>\n      <th>7</th>\n      <td>Geography_Germany</td>\n      <td>0.022097</td>\n    </tr>\n    <tr>\n      <th>8</th>\n      <td>HasCrCard</td>\n      <td>0.020116</td>\n    </tr>\n    <tr>\n      <th>9</th>\n      <td>Geography_France</td>\n      <td>0.011223</td>\n    </tr>\n    <tr>\n      <th>10</th>\n      <td>Gender_Female</td>\n      <td>0.011047</td>\n    </tr>\n    <tr>\n      <th>11</th>\n      <td>Gender_Male</td>\n      <td>0.010501</td>\n    </tr>\n    <tr>\n      <th>12</th>\n      <td>Geography_Spain</td>\n      <td>0.009767</td>\n    </tr>\n  </tbody>\n</table>\n</div>"
     },
     "metadata": {},
     "execution_count": 30
    }
   ],
   "source": [
    "importances"
   ]
  },
  {
   "cell_type": "code",
   "execution_count": 31,
   "metadata": {},
   "outputs": [
    {
     "output_type": "execute_result",
     "data": {
      "text/plain": [
       "   level_0            index  Importance\n",
       "0        0              Age    0.229874\n",
       "1        3  EstimatedSalary    0.145405\n",
       "2        2      CreditScore    0.142583\n",
       "3        1          Balance    0.138198\n",
       "4        8    NumOfProducts    0.129874\n",
       "5        9           Tenure    0.085576\n",
       "6        7   IsActiveMember    0.043739\n",
       "7        5        Geography    0.043086\n",
       "8        4           Gender    0.021548\n",
       "9        6        HasCrCard    0.020116"
      ],
      "text/html": "<div>\n<style scoped>\n    .dataframe tbody tr th:only-of-type {\n        vertical-align: middle;\n    }\n\n    .dataframe tbody tr th {\n        vertical-align: top;\n    }\n\n    .dataframe thead th {\n        text-align: right;\n    }\n</style>\n<table border=\"1\" class=\"dataframe\">\n  <thead>\n    <tr style=\"text-align: right;\">\n      <th></th>\n      <th>level_0</th>\n      <th>index</th>\n      <th>Importance</th>\n    </tr>\n  </thead>\n  <tbody>\n    <tr>\n      <th>0</th>\n      <td>0</td>\n      <td>Age</td>\n      <td>0.229874</td>\n    </tr>\n    <tr>\n      <th>1</th>\n      <td>3</td>\n      <td>EstimatedSalary</td>\n      <td>0.145405</td>\n    </tr>\n    <tr>\n      <th>2</th>\n      <td>2</td>\n      <td>CreditScore</td>\n      <td>0.142583</td>\n    </tr>\n    <tr>\n      <th>3</th>\n      <td>1</td>\n      <td>Balance</td>\n      <td>0.138198</td>\n    </tr>\n    <tr>\n      <th>4</th>\n      <td>8</td>\n      <td>NumOfProducts</td>\n      <td>0.129874</td>\n    </tr>\n    <tr>\n      <th>5</th>\n      <td>9</td>\n      <td>Tenure</td>\n      <td>0.085576</td>\n    </tr>\n    <tr>\n      <th>6</th>\n      <td>7</td>\n      <td>IsActiveMember</td>\n      <td>0.043739</td>\n    </tr>\n    <tr>\n      <th>7</th>\n      <td>5</td>\n      <td>Geography</td>\n      <td>0.043086</td>\n    </tr>\n    <tr>\n      <th>8</th>\n      <td>4</td>\n      <td>Gender</td>\n      <td>0.021548</td>\n    </tr>\n    <tr>\n      <th>9</th>\n      <td>6</td>\n      <td>HasCrCard</td>\n      <td>0.020116</td>\n    </tr>\n  </tbody>\n</table>\n</div>"
     },
     "metadata": {},
     "execution_count": 31
    }
   ],
   "source": [
    "# We can group the relative importances for one-hot encoded features together and make the sum of there values: \n",
    "importances['index'] = np.where(importances['index'].str.startswith ('Gender'),'Gender',importances['index'])\n",
    "importances['index'] = np.where(importances['index'].str.startswith ('Geography'),'Geography',importances['index'])\n",
    "imp = importances.groupby(['index'])['Importance'].sum().reset_index().sort_values(by='Importance',ascending=False).reset_index()\n",
    "imp"
   ]
  },
  {
   "cell_type": "code",
   "execution_count": 32,
   "metadata": {},
   "outputs": [
    {
     "output_type": "execute_result",
     "data": {
      "text/plain": [
       "        CreditScore        Age    Tenure       Balance  NumOfProducts  \\\n",
       "Exited                                                                  \n",
       "0        651.853196  37.408389  5.033279  72745.296779       1.544267   \n",
       "1        645.351497  44.837997  4.932744  91108.539337       1.475209   \n",
       "\n",
       "        HasCrCard  IsActiveMember  EstimatedSalary  Gender_Female  \\\n",
       "Exited                                                              \n",
       "0        0.707146        0.554565     99738.391772       0.427477   \n",
       "1        0.699067        0.360825    101465.677531       0.559156   \n",
       "\n",
       "        Gender_Male  Geography_France  Geography_Germany  Geography_Spain  \n",
       "Exited                                                                     \n",
       "0          0.572523          0.527942           0.212859         0.259199  \n",
       "1          0.440844          0.397644           0.399607         0.202749  "
      ],
      "text/html": "<div>\n<style scoped>\n    .dataframe tbody tr th:only-of-type {\n        vertical-align: middle;\n    }\n\n    .dataframe tbody tr th {\n        vertical-align: top;\n    }\n\n    .dataframe thead th {\n        text-align: right;\n    }\n</style>\n<table border=\"1\" class=\"dataframe\">\n  <thead>\n    <tr style=\"text-align: right;\">\n      <th></th>\n      <th>CreditScore</th>\n      <th>Age</th>\n      <th>Tenure</th>\n      <th>Balance</th>\n      <th>NumOfProducts</th>\n      <th>HasCrCard</th>\n      <th>IsActiveMember</th>\n      <th>EstimatedSalary</th>\n      <th>Gender_Female</th>\n      <th>Gender_Male</th>\n      <th>Geography_France</th>\n      <th>Geography_Germany</th>\n      <th>Geography_Spain</th>\n    </tr>\n    <tr>\n      <th>Exited</th>\n      <th></th>\n      <th></th>\n      <th></th>\n      <th></th>\n      <th></th>\n      <th></th>\n      <th></th>\n      <th></th>\n      <th></th>\n      <th></th>\n      <th></th>\n      <th></th>\n      <th></th>\n    </tr>\n  </thead>\n  <tbody>\n    <tr>\n      <th>0</th>\n      <td>651.853196</td>\n      <td>37.408389</td>\n      <td>5.033279</td>\n      <td>72745.296779</td>\n      <td>1.544267</td>\n      <td>0.707146</td>\n      <td>0.554565</td>\n      <td>99738.391772</td>\n      <td>0.427477</td>\n      <td>0.572523</td>\n      <td>0.527942</td>\n      <td>0.212859</td>\n      <td>0.259199</td>\n    </tr>\n    <tr>\n      <th>1</th>\n      <td>645.351497</td>\n      <td>44.837997</td>\n      <td>4.932744</td>\n      <td>91108.539337</td>\n      <td>1.475209</td>\n      <td>0.699067</td>\n      <td>0.360825</td>\n      <td>101465.677531</td>\n      <td>0.559156</td>\n      <td>0.440844</td>\n      <td>0.397644</td>\n      <td>0.399607</td>\n      <td>0.202749</td>\n    </tr>\n  </tbody>\n</table>\n</div>"
     },
     "metadata": {},
     "execution_count": 32
    }
   ],
   "source": [
    "bank.groupby(bank.Exited).mean()"
   ]
  },
  {
   "cell_type": "code",
   "execution_count": 33,
   "metadata": {},
   "outputs": [
    {
     "output_type": "stream",
     "name": "stdout",
     "text": [
      "(1, 0.728)\n",
      "(0, 0.56)\n"
     ]
    }
   ],
   "source": [
    "# We will now use this model to predict wether or not some current customers might leave or not.\n",
    "# This will typically be part of a end-user application and run e.g. weekly on the customer database\n",
    "\n",
    "def PredictSwitch(model,CreditScore,Geography,Gender,Age,Tenure,Balance,NumOfProducts,\n",
    "                  HasCrCard,IsActiveMember, EstimatedSalary):\n",
    "    import pandas as pd\n",
    "    customer=pd.DataFrame(columns=['CreditScore', 'Geography',\n",
    "       'Gender', 'Age', 'Tenure', 'Balance', 'NumOfProducts', 'HasCrCard',\n",
    "       'IsActiveMember', 'EstimatedSalary'])\n",
    "\n",
    "    new_customer = {'CreditScore':CreditScore, 'Geography':Geography,\n",
    "       'Gender':Gender, 'Age':Age, 'Tenure':Tenure, 'Balance':Balance, \n",
    "       'NumOfProducts':NumOfProducts, 'HasCrCard':HasCrCard,\n",
    "       'IsActiveMember':IsActiveMember, 'EstimatedSalary':EstimatedSalary}\n",
    "    \n",
    "    customer = customer.append(new_customer,ignore_index=True)\n",
    "\n",
    "    if Gender == 'Male':\n",
    "        customer['Gender_Male'] = 1\n",
    "        customer['Gender_Female'] = 0\n",
    "    else:\n",
    "        customer['Gender_Male'] = 0\n",
    "        customer['Gender_Female'] = 1        \n",
    "    customer.drop(columns=['Gender'],axis=1,inplace=True)\n",
    "\n",
    "    customer['Geography_France'] = 0\n",
    "    customer['Geography_Germany'] = 0\n",
    "    customer['Geography_Spain'] = 0\n",
    "\n",
    "    customer['Geography' +'_'+Geography] = 1\n",
    "\n",
    "    customer.drop(['Geography'],axis=1,inplace=True)\n",
    "\n",
    "    \n",
    "    # In practice the model will be saved to a file after building and fine-tuning \n",
    "    # and loaded from that file in this function\n",
    "    Exited = model.predict(customer)\n",
    "    \n",
    "    # most sklearn algorithms also offer a predict_proba method that returns an array \n",
    "    # of probabilities per class:\n",
    "    Exited_proba = model.predict_proba(customer)\n",
    "    return Exited[0],Exited_proba[0].max()\n",
    "\n",
    "\n",
    "Exited = PredictSwitch(model,CreditScore=502, Geography='Spain',Gender='Male',Age=20,Tenure=1,Balance=10000,NumOfProducts=3,HasCrCard=1,IsActiveMember=0, EstimatedSalary=100000)\n",
    "\n",
    "print(Exited)\n",
    "\n",
    "Exited = PredictSwitch(model,CreditScore=502, Geography='Spain',Gender='Female',Age=41,Tenure=1,Balance=50000,NumOfProducts=1,HasCrCard=1,IsActiveMember=0, EstimatedSalary=200000)\n",
    "\n",
    "print(Exited)\n",
    "\n"
   ]
  },
  {
   "cell_type": "code",
   "execution_count": null,
   "metadata": {},
   "outputs": [],
   "source": []
  }
 ],
 "metadata": {
  "kernelspec": {
   "display_name": "Python 3",
   "language": "python",
   "name": "python3"
  },
  "language_info": {
   "codemirror_mode": {
    "name": "ipython",
    "version": 3
   },
   "file_extension": ".py",
   "mimetype": "text/x-python",
   "name": "python",
   "nbconvert_exporter": "python",
   "pygments_lexer": "ipython3",
   "version": "3.7.9-final"
  }
 },
 "nbformat": 4,
 "nbformat_minor": 2
}